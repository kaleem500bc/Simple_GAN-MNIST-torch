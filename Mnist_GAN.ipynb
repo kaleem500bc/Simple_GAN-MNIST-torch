{
  "nbformat": 4,
  "nbformat_minor": 0,
  "metadata": {
    "colab": {
      "name": "Mnist GAN",
      "provenance": [],
      "collapsed_sections": [],
      "include_colab_link": true
    },
    "kernelspec": {
      "display_name": "Python 3",
      "name": "python3"
    },
    "accelerator": "GPU"
  },
  "cells": [
    {
      "cell_type": "markdown",
      "metadata": {
        "id": "view-in-github",
        "colab_type": "text"
      },
      "source": [
        "<a href=\"https://colab.research.google.com/github/kaleem500bc/Simple_GAN-MNIST-torch-and-tensorflow/blob/master/Mnist_GAN.ipynb\" target=\"_parent\"><img src=\"https://colab.research.google.com/assets/colab-badge.svg\" alt=\"Open In Colab\"/></a>"
      ]
    },
    {
      "cell_type": "code",
      "metadata": {
        "id": "_gCvMdKLZEww",
        "colab_type": "code",
        "colab": {}
      },
      "source": [
        "import torch\n",
        "from torch import nn\n",
        "from torch.nn import functional as F\n",
        "import matplotlib.pyplot as plt\n",
        "import torchvision\n",
        "from torchvision import datasets\n"
      ],
      "execution_count": 70,
      "outputs": []
    },
    {
      "cell_type": "code",
      "metadata": {
        "id": "5h20bJ5dca4U",
        "colab_type": "code",
        "colab": {}
      },
      "source": [
        "transform = torchvision.transforms.Compose([\n",
        "                  torchvision.transforms.ToTensor(),\n",
        "                  torchvision.transforms.Normalize((0.5,),(0.5,))\n",
        "])\n",
        "dataset = torchvision.datasets.MNIST('data',train=True,download=True,transform=transform)\n",
        "\n",
        "datasetBatch = torch.utils.data.DataLoader(dataset,32,shuffle=True)\n",
        "dataiter = iter(datasetBatch)"
      ],
      "execution_count": 71,
      "outputs": []
    },
    {
      "cell_type": "code",
      "metadata": {
        "id": "-KRomv_IZ2iv",
        "colab_type": "code",
        "colab": {}
      },
      "source": [
        "\n",
        "\n",
        "class netG(nn.Module):\n",
        "  def __init__(self):\n",
        "    super().__init__()\n",
        "    self.f = nn.Linear(100,400)\n",
        "    self.c1 = nn.ConvTranspose2d(1,128,3)\n",
        "    self.b1 = nn.BatchNorm2d(128)\n",
        "    self.c2 = nn.ConvTranspose2d(128,256,3)\n",
        "    self.b2 = nn.BatchNorm2d(256)\n",
        "    self.c3 = nn.ConvTranspose2d(256,64,3)\n",
        "    self.b3 = nn.BatchNorm2d(64)\n",
        "    self.c5 = nn.ConvTranspose2d(64,1,3)\n",
        "  def forward(self,x):\n",
        "    x = F.leaky_relu(self.f(x),negative_slope=0.2)\n",
        "    x = x.view(x.shape[0],1,20,20)\n",
        "    x = F.leaky_relu(self.b1(self.c1(x)),negative_slope=0.2)\n",
        "    x = F.leaky_relu(self.b2(self.c2(x)),negative_slope=0.2)\n",
        "    x = F.leaky_relu(self.b3(self.c3(x)),negative_slope=0.2)\n",
        "    x = torch.tanh(self.c5(x))\n",
        "    return x\n",
        "\n",
        "generatorM = netG()\n",
        "\n"
      ],
      "execution_count": 74,
      "outputs": []
    },
    {
      "cell_type": "code",
      "metadata": {
        "id": "dm13j6wpbPJN",
        "colab_type": "code",
        "colab": {
          "base_uri": "https://localhost:8080/",
          "height": 34
        },
        "outputId": "a92145cd-cd17-488a-a507-4867c80f02a4"
      },
      "source": [
        "noise = torch.randn(1,100)\n",
        "o = generatorM(noise)\n",
        "print(o.shape)"
      ],
      "execution_count": 75,
      "outputs": [
        {
          "output_type": "stream",
          "text": [
            "torch.Size([1, 1, 28, 28])\n"
          ],
          "name": "stdout"
        }
      ]
    },
    {
      "cell_type": "code",
      "metadata": {
        "id": "SKhNA-nWuKmR",
        "colab_type": "code",
        "colab": {}
      },
      "source": [
        "class netD(nn.Module):\n",
        "  def __init__(self):\n",
        "    super().__init__()\n",
        "    self.c1 = nn.Conv2d(1,256,3)\n",
        "    self.c2 = nn.Conv2d(256,64,3)\n",
        "    self.c5 = nn.Conv2d(64,1,3)\n",
        "    self.fl = nn.Flatten()\n",
        "    self.f1 = nn.Linear(484,256)\n",
        "    self.f2 = nn.Linear(256,128)\n",
        "    self.f = nn.Linear(128,1)\n",
        "    self.pool = nn.MaxPool2d(2)\n",
        "  def forward(self,x):\n",
        "    x = self.c1(x)\n",
        "    x = F.leaky_relu(self.c2(x),negative_slope=0.2)\n",
        "    # x = self.pool(x)\n",
        "    x = F.leaky_relu(self.c5(x),negative_slope=0.2)\n",
        "    x = self.fl(x)\n",
        "    x = F.leaky_relu(self.f1(x),negative_slope=0.2)\n",
        "    x = nn.Dropout(0.05)(x)\n",
        "    x = F.leaky_relu(self.f2(x), negative_slope=0.2)\n",
        "    x = torch.sigmoid(self.f(x))\n",
        "    return x\n",
        "\n",
        "discriminatorM = netD()"
      ],
      "execution_count": 76,
      "outputs": []
    },
    {
      "cell_type": "code",
      "metadata": {
        "id": "84E-Htilb1w0",
        "colab_type": "code",
        "colab": {}
      },
      "source": [
        "i, _ = dataiter.next()\n",
        "o = discriminatorM(i)"
      ],
      "execution_count": 77,
      "outputs": []
    },
    {
      "cell_type": "code",
      "metadata": {
        "id": "dWfHWeSuihh1",
        "colab_type": "code",
        "colab": {
          "base_uri": "https://localhost:8080/",
          "height": 207
        },
        "outputId": "a1f0cd2b-fba1-4609-e636-c3e91d752707"
      },
      "source": [
        "def weight_init(layer):\n",
        "  typ = type(layer)\n",
        "  if typ == nn.Linear or typ == nn.Conv2d or typ == nn.ConvTranspose2d:\n",
        "    nn.init.xavier_normal_(layer.weight)\n",
        "\n",
        "discriminatorM.apply(weight_init)\n",
        "generatorM.apply(weight_init)"
      ],
      "execution_count": 78,
      "outputs": [
        {
          "output_type": "execute_result",
          "data": {
            "text/plain": [
              "netG(\n",
              "  (f): Linear(in_features=100, out_features=400, bias=True)\n",
              "  (c1): ConvTranspose2d(1, 128, kernel_size=(3, 3), stride=(1, 1))\n",
              "  (b1): BatchNorm2d(128, eps=1e-05, momentum=0.1, affine=True, track_running_stats=True)\n",
              "  (c2): ConvTranspose2d(128, 256, kernel_size=(3, 3), stride=(1, 1))\n",
              "  (b2): BatchNorm2d(256, eps=1e-05, momentum=0.1, affine=True, track_running_stats=True)\n",
              "  (c3): ConvTranspose2d(256, 64, kernel_size=(3, 3), stride=(1, 1))\n",
              "  (b3): BatchNorm2d(64, eps=1e-05, momentum=0.1, affine=True, track_running_stats=True)\n",
              "  (c5): ConvTranspose2d(64, 1, kernel_size=(3, 3), stride=(1, 1))\n",
              ")"
            ]
          },
          "metadata": {
            "tags": []
          },
          "execution_count": 78
        }
      ]
    },
    {
      "cell_type": "code",
      "metadata": {
        "id": "xvmGZfmAxI8w",
        "colab_type": "code",
        "colab": {}
      },
      "source": [
        "criterion = nn.BCELoss()\n",
        "def totalLossD(realOutput,fakeOutput):\n",
        "  alpha = (0.01*torch.rand(1))[0]\n",
        "  ones = torch.empty(realOutput.shape).fill_(1-alpha+(alpha/2)).to(\"cuda\")\n",
        "  # print(ones.shape)\n",
        "  zeros = torch.empty_like(fakeOutput).fill_(alpha/2).to(\"cuda\")\n",
        "  loss1 = criterion(realOutput,ones)\n",
        "  loss0 = criterion(fakeOutput,zeros)\n",
        "  totalLoss = loss1+loss0\n",
        "  return totalLoss\n",
        "\n",
        "def totalLossG(fakeOutput):\n",
        "  ones = torch.ones_like(fakeOutput).to(\"cuda\")\n",
        "  loss = criterion(fakeOutput,ones)\n",
        "  return loss"
      ],
      "execution_count": 79,
      "outputs": []
    },
    {
      "cell_type": "code",
      "metadata": {
        "id": "U1RFQfhEywZK",
        "colab_type": "code",
        "colab": {}
      },
      "source": [
        "\n",
        "optD = torch.optim.Adam(discriminatorM.parameters())\n",
        "optG = torch.optim.SGD(generatorM.parameters(),lr=0.001,momentum=0.1)\n"
      ],
      "execution_count": 80,
      "outputs": []
    },
    {
      "cell_type": "code",
      "metadata": {
        "id": "xFC6eOGDzCqO",
        "colab_type": "code",
        "colab": {}
      },
      "source": [
        "generatorM.to(\"cuda\")\n",
        "discriminatorM.to(\"cuda\")\n",
        "def training():\n",
        "  epoch = 10\n",
        "  plossd = 0\n",
        "  plossg = 0\n",
        "\n",
        "  for e in range(epoch):\n",
        "    print(\"iteration: \" + str(e+1))\n",
        "    for img2,label in datasetBatch:\n",
        "      img = (img2).to(\"cuda\")\n",
        "      r_output = discriminatorM(img)\n",
        "\n",
        "      g_input = torch.randn(32,100).to(\"cuda\")\n",
        "\n",
        "      f_img = generatorM(g_input) \n",
        "\n",
        "      f_output = discriminatorM(f_img.detach())\n",
        "\n",
        "      optD.zero_grad()\n",
        "      dloss = totalLossD(r_output,f_output)\n",
        "      dloss.backward()\n",
        "      optD.step()\n",
        "\n",
        "      optG.zero_grad()\n",
        "      g2_input = torch.randn(32,100).to(\"cuda\")\n",
        "      f2_img = generatorM(g2_input)\n",
        "      f2_output = discriminatorM(f2_img)\n",
        "      gloss = totalLossG(f2_output)\n",
        "      gloss.backward()\n",
        "      optG.step()\n",
        "      plossg = plossg+gloss.item()\n",
        "      plossd = plossd+dloss.item()\n",
        "    print(\"Generator: \"+ str(plossg))\n",
        "    print(\"Discriminator: \"+ str(plossd))\n",
        "    plossd = 0\n",
        "    plossg = 0\n"
      ],
      "execution_count": 81,
      "outputs": []
    },
    {
      "cell_type": "code",
      "metadata": {
        "id": "nNMIF5QHRmdG",
        "colab_type": "code",
        "colab": {
          "base_uri": "https://localhost:8080/",
          "height": 527
        },
        "outputId": "afab6a11-eb77-405f-db43-6dde1bcd53a6"
      },
      "source": [
        "training()"
      ],
      "execution_count": 82,
      "outputs": [
        {
          "output_type": "stream",
          "text": [
            "iteration: 1\n",
            "Generator: 5575.891739528628\n",
            "Discriminator: 962.9281511828303\n",
            "iteration: 2\n",
            "Generator: 5677.31806242466\n",
            "Discriminator: 898.6331876963377\n",
            "iteration: 3\n",
            "Generator: 6075.148789644241\n",
            "Discriminator: 764.6299295052886\n",
            "iteration: 4\n",
            "Generator: 6535.673730373383\n",
            "Discriminator: 704.0178930088878\n",
            "iteration: 5\n",
            "Generator: 6714.335629463196\n",
            "Discriminator: 659.9772656559944\n",
            "iteration: 6\n",
            "Generator: 6981.108736872673\n",
            "Discriminator: 618.445713929832\n",
            "iteration: 7\n",
            "Generator: 7040.169944286346\n",
            "Discriminator: 614.800216242671\n",
            "iteration: 8\n",
            "Generator: 6878.311809420586\n",
            "Discriminator: 634.4761384949088\n",
            "iteration: 9\n",
            "Generator: 6873.324356675148\n",
            "Discriminator: 626.9639543741941\n",
            "iteration: 10\n",
            "Generator: 6801.384039521217\n",
            "Discriminator: 636.9311987608671\n"
          ],
          "name": "stdout"
        }
      ]
    },
    {
      "cell_type": "code",
      "metadata": {
        "id": "DYoVt9QiKWjP",
        "colab_type": "code",
        "colab": {}
      },
      "source": [
        "input = torch.randn(64,100).to(\"cuda\")\n",
        "img = generatorM(input)"
      ],
      "execution_count": 83,
      "outputs": []
    },
    {
      "cell_type": "code",
      "metadata": {
        "id": "LPxVj66FsQ3K",
        "colab_type": "code",
        "colab": {
          "base_uri": "https://localhost:8080/",
          "height": 265
        },
        "outputId": "bfa8168c-cefc-43b8-fa8b-2af1149d2897"
      },
      "source": [
        "img = img.view(64,28,28).to(\"cpu\")\n",
        "\n",
        "plt.imshow(img[4].detach().numpy(),cmap='gray')\n",
        "n=0"
      ],
      "execution_count": 84,
      "outputs": [
        {
          "output_type": "display_data",
          "data": {
            "image/png": "[encoded data removed]",
            "text/plain": [
              "<Figure size 432x288 with 1 Axes>"
            ]
          },
          "metadata": {
            "tags": [],
            "needs_background": "light"
          }
        }
      ]
    },
    {
      "cell_type": "code",
      "metadata": {
        "id": "69yofiQXkfPr",
        "colab_type": "code",
        "colab": {
          "base_uri": "https://localhost:8080/",
          "height": 485
        },
        "outputId": "081f86f4-5fe7-49a7-959f-9f694b9c7ef5"
      },
      "source": [
        "n = n+1\n",
        "plt.figure(figsize=(8,8))\n",
        "for i in range(16):\n",
        "  plt.subplot(4,4,i+1)\n",
        "  plt.imshow(img[n+16+i].detach().numpy(),cmap=\"gray\")\n",
        "plt.show()"
      ],
      "execution_count": 88,
      "outputs": [
        {
          "output_type": "display_data",
          "data": {
            "image/png": "[encoded data removed]",
            "text/plain": [
              "<Figure size 576x576 with 16 Axes>"
            ]
          },
          "metadata": {
            "tags": [],
            "needs_background": "light"
          }
        }
      ]
    }
  ]
}