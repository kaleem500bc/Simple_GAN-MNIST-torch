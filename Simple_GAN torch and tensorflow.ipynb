{
  "nbformat": 4,
  "nbformat_minor": 0,
  "metadata": {
    "colab": {
      "name": "Simple GAN.ipynb",
      "provenance": [],
      "collapsed_sections": [],
      "authorship_tag": "ABX9TyNVy2QjGy3N8Js7SeFHz1cv",
      "include_colab_link": true
    },
    "kernelspec": {
      "name": "python3",
      "display_name": "Python 3"
    },
    "accelerator": "GPU",
    "widgets": {
      "application/vnd.jupyter.widget-state+json": {
        "1fe9f3c98ccf4a3da9272c7b178021fa": {
          "model_module": "@jupyter-widgets/controls",
          "model_name": "HBoxModel",
          "state": {
            "_view_name": "HBoxView",
            "_dom_classes": [],
            "_model_name": "HBoxModel",
            "_view_module": "@jupyter-widgets/controls",
            "_model_module_version": "1.5.0",
            "_view_count": null,
            "_view_module_version": "1.5.0",
            "box_style": "",
            "layout": "IPY_MODEL_8523e397c82141dba622987f832a19c7",
            "_model_module": "@jupyter-widgets/controls",
            "children": [
              "IPY_MODEL_21ecf16ec00d428a995c60cef05a4bed",
              "IPY_MODEL_33d90be0992e497a9d9ff5e4073a1d73"
            ]
          }
        },
        "8523e397c82141dba622987f832a19c7": {
          "model_module": "@jupyter-widgets/base",
          "model_name": "LayoutModel",
          "state": {
            "_view_name": "LayoutView",
            "grid_template_rows": null,
            "right": null,
            "justify_content": null,
            "_view_module": "@jupyter-widgets/base",
            "overflow": null,
            "_model_module_version": "1.2.0",
            "_view_count": null,
            "flex_flow": null,
            "width": null,
            "min_width": null,
            "border": null,
            "align_items": null,
            "bottom": null,
            "_model_module": "@jupyter-widgets/base",
            "top": null,
            "grid_column": null,
            "overflow_y": null,
            "overflow_x": null,
            "grid_auto_flow": null,
            "grid_area": null,
            "grid_template_columns": null,
            "flex": null,
            "_model_name": "LayoutModel",
            "justify_items": null,
            "grid_row": null,
            "max_height": null,
            "align_content": null,
            "visibility": null,
            "align_self": null,
            "height": null,
            "min_height": null,
            "padding": null,
            "grid_auto_rows": null,
            "grid_gap": null,
            "max_width": null,
            "order": null,
            "_view_module_version": "1.2.0",
            "grid_template_areas": null,
            "object_position": null,
            "object_fit": null,
            "grid_auto_columns": null,
            "margin": null,
            "display": null,
            "left": null
          }
        },
        "21ecf16ec00d428a995c60cef05a4bed": {
          "model_module": "@jupyter-widgets/controls",
          "model_name": "FloatProgressModel",
          "state": {
            "_view_name": "ProgressView",
            "style": "IPY_MODEL_63c48f44aa6b4b81af158c3d9f56c6ba",
            "_dom_classes": [],
            "description": "",
            "_model_name": "FloatProgressModel",
            "bar_style": "info",
            "max": 1,
            "_view_module": "@jupyter-widgets/controls",
            "_model_module_version": "1.5.0",
            "value": 1,
            "_view_count": null,
            "_view_module_version": "1.5.0",
            "orientation": "horizontal",
            "min": 0,
            "description_tooltip": null,
            "_model_module": "@jupyter-widgets/controls",
            "layout": "IPY_MODEL_c71347b8a03a4558a788716209f791de"
          }
        },
        "33d90be0992e497a9d9ff5e4073a1d73": {
          "model_module": "@jupyter-widgets/controls",
          "model_name": "HTMLModel",
          "state": {
            "_view_name": "HTMLView",
            "style": "IPY_MODEL_d5bff56ec84d46aeb9a3bcdaf21ea525",
            "_dom_classes": [],
            "description": "",
            "_model_name": "HTMLModel",
            "placeholder": "​",
            "_view_module": "@jupyter-widgets/controls",
            "_model_module_version": "1.5.0",
            "value": " 9920512/? [00:20&lt;00:00, 755205.23it/s]",
            "_view_count": null,
            "_view_module_version": "1.5.0",
            "description_tooltip": null,
            "_model_module": "@jupyter-widgets/controls",
            "layout": "IPY_MODEL_153b3ad5ff0047d7829f8e569fa67b44"
          }
        },
        "63c48f44aa6b4b81af158c3d9f56c6ba": {
          "model_module": "@jupyter-widgets/controls",
          "model_name": "ProgressStyleModel",
          "state": {
            "_view_name": "StyleView",
            "_model_name": "ProgressStyleModel",
            "description_width": "initial",
            "_view_module": "@jupyter-widgets/base",
            "_model_module_version": "1.5.0",
            "_view_count": null,
            "_view_module_version": "1.2.0",
            "bar_color": null,
            "_model_module": "@jupyter-widgets/controls"
          }
        },
        "c71347b8a03a4558a788716209f791de": {
          "model_module": "@jupyter-widgets/base",
          "model_name": "LayoutModel",
          "state": {
            "_view_name": "LayoutView",
            "grid_template_rows": null,
            "right": null,
            "justify_content": null,
            "_view_module": "@jupyter-widgets/base",
            "overflow": null,
            "_model_module_version": "1.2.0",
            "_view_count": null,
            "flex_flow": null,
            "width": null,
            "min_width": null,
            "border": null,
            "align_items": null,
            "bottom": null,
            "_model_module": "@jupyter-widgets/base",
            "top": null,
            "grid_column": null,
            "overflow_y": null,
            "overflow_x": null,
            "grid_auto_flow": null,
            "grid_area": null,
            "grid_template_columns": null,
            "flex": null,
            "_model_name": "LayoutModel",
            "justify_items": null,
            "grid_row": null,
            "max_height": null,
            "align_content": null,
            "visibility": null,
            "align_self": null,
            "height": null,
            "min_height": null,
            "padding": null,
            "grid_auto_rows": null,
            "grid_gap": null,
            "max_width": null,
            "order": null,
            "_view_module_version": "1.2.0",
            "grid_template_areas": null,
            "object_position": null,
            "object_fit": null,
            "grid_auto_columns": null,
            "margin": null,
            "display": null,
            "left": null
          }
        },
        "d5bff56ec84d46aeb9a3bcdaf21ea525": {
          "model_module": "@jupyter-widgets/controls",
          "model_name": "DescriptionStyleModel",
          "state": {
            "_view_name": "StyleView",
            "_model_name": "DescriptionStyleModel",
            "description_width": "",
            "_view_module": "@jupyter-widgets/base",
            "_model_module_version": "1.5.0",
            "_view_count": null,
            "_view_module_version": "1.2.0",
            "_model_module": "@jupyter-widgets/controls"
          }
        },
        "153b3ad5ff0047d7829f8e569fa67b44": {
          "model_module": "@jupyter-widgets/base",
          "model_name": "LayoutModel",
          "state": {
            "_view_name": "LayoutView",
            "grid_template_rows": null,
            "right": null,
            "justify_content": null,
            "_view_module": "@jupyter-widgets/base",
            "overflow": null,
            "_model_module_version": "1.2.0",
            "_view_count": null,
            "flex_flow": null,
            "width": null,
            "min_width": null,
            "border": null,
            "align_items": null,
            "bottom": null,
            "_model_module": "@jupyter-widgets/base",
            "top": null,
            "grid_column": null,
            "overflow_y": null,
            "overflow_x": null,
            "grid_auto_flow": null,
            "grid_area": null,
            "grid_template_columns": null,
            "flex": null,
            "_model_name": "LayoutModel",
            "justify_items": null,
            "grid_row": null,
            "max_height": null,
            "align_content": null,
            "visibility": null,
            "align_self": null,
            "height": null,
            "min_height": null,
            "padding": null,
            "grid_auto_rows": null,
            "grid_gap": null,
            "max_width": null,
            "order": null,
            "_view_module_version": "1.2.0",
            "grid_template_areas": null,
            "object_position": null,
            "object_fit": null,
            "grid_auto_columns": null,
            "margin": null,
            "display": null,
            "left": null
          }
        },
        "8822f8e9f9394dea82cfe96b61fdc619": {
          "model_module": "@jupyter-widgets/controls",
          "model_name": "HBoxModel",
          "state": {
            "_view_name": "HBoxView",
            "_dom_classes": [],
            "_model_name": "HBoxModel",
            "_view_module": "@jupyter-widgets/controls",
            "_model_module_version": "1.5.0",
            "_view_count": null,
            "_view_module_version": "1.5.0",
            "box_style": "",
            "layout": "IPY_MODEL_fbec8587644f48ed8fd8b5b6536a6342",
            "_model_module": "@jupyter-widgets/controls",
            "children": [
              "IPY_MODEL_0c497ad413a24a8a9cc5047317f5e04b",
              "IPY_MODEL_762058c9350345578a95458e18cc0f09"
            ]
          }
        },
        "fbec8587644f48ed8fd8b5b6536a6342": {
          "model_module": "@jupyter-widgets/base",
          "model_name": "LayoutModel",
          "state": {
            "_view_name": "LayoutView",
            "grid_template_rows": null,
            "right": null,
            "justify_content": null,
            "_view_module": "@jupyter-widgets/base",
            "overflow": null,
            "_model_module_version": "1.2.0",
            "_view_count": null,
            "flex_flow": null,
            "width": null,
            "min_width": null,
            "border": null,
            "align_items": null,
            "bottom": null,
            "_model_module": "@jupyter-widgets/base",
            "top": null,
            "grid_column": null,
            "overflow_y": null,
            "overflow_x": null,
            "grid_auto_flow": null,
            "grid_area": null,
            "grid_template_columns": null,
            "flex": null,
            "_model_name": "LayoutModel",
            "justify_items": null,
            "grid_row": null,
            "max_height": null,
            "align_content": null,
            "visibility": null,
            "align_self": null,
            "height": null,
            "min_height": null,
            "padding": null,
            "grid_auto_rows": null,
            "grid_gap": null,
            "max_width": null,
            "order": null,
            "_view_module_version": "1.2.0",
            "grid_template_areas": null,
            "object_position": null,
            "object_fit": null,
            "grid_auto_columns": null,
            "margin": null,
            "display": null,
            "left": null
          }
        },
        "0c497ad413a24a8a9cc5047317f5e04b": {
          "model_module": "@jupyter-widgets/controls",
          "model_name": "FloatProgressModel",
          "state": {
            "_view_name": "ProgressView",
            "style": "IPY_MODEL_e8262225f83245d2935fef3d1e57743c",
            "_dom_classes": [],
            "description": "",
            "_model_name": "FloatProgressModel",
            "bar_style": "success",
            "max": 1,
            "_view_module": "@jupyter-widgets/controls",
            "_model_module_version": "1.5.0",
            "value": 1,
            "_view_count": null,
            "_view_module_version": "1.5.0",
            "orientation": "horizontal",
            "min": 0,
            "description_tooltip": null,
            "_model_module": "@jupyter-widgets/controls",
            "layout": "IPY_MODEL_064d16a880664d0c90868574030ea85d"
          }
        },
        "762058c9350345578a95458e18cc0f09": {
          "model_module": "@jupyter-widgets/controls",
          "model_name": "HTMLModel",
          "state": {
            "_view_name": "HTMLView",
            "style": "IPY_MODEL_e950e3c8a8294dc285e0f46ffc2d6922",
            "_dom_classes": [],
            "description": "",
            "_model_name": "HTMLModel",
            "placeholder": "​",
            "_view_module": "@jupyter-widgets/controls",
            "_model_module_version": "1.5.0",
            "value": " 32768/? [00:01&lt;00:00, 29287.82it/s]",
            "_view_count": null,
            "_view_module_version": "1.5.0",
            "description_tooltip": null,
            "_model_module": "@jupyter-widgets/controls",
            "layout": "IPY_MODEL_552dbf36c7f845ec8860296ae1543a5a"
          }
        },
        "e8262225f83245d2935fef3d1e57743c": {
          "model_module": "@jupyter-widgets/controls",
          "model_name": "ProgressStyleModel",
          "state": {
            "_view_name": "StyleView",
            "_model_name": "ProgressStyleModel",
            "description_width": "initial",
            "_view_module": "@jupyter-widgets/base",
            "_model_module_version": "1.5.0",
            "_view_count": null,
            "_view_module_version": "1.2.0",
            "bar_color": null,
            "_model_module": "@jupyter-widgets/controls"
          }
        },
        "064d16a880664d0c90868574030ea85d": {
          "model_module": "@jupyter-widgets/base",
          "model_name": "LayoutModel",
          "state": {
            "_view_name": "LayoutView",
            "grid_template_rows": null,
            "right": null,
            "justify_content": null,
            "_view_module": "@jupyter-widgets/base",
            "overflow": null,
            "_model_module_version": "1.2.0",
            "_view_count": null,
            "flex_flow": null,
            "width": null,
            "min_width": null,
            "border": null,
            "align_items": null,
            "bottom": null,
            "_model_module": "@jupyter-widgets/base",
            "top": null,
            "grid_column": null,
            "overflow_y": null,
            "overflow_x": null,
            "grid_auto_flow": null,
            "grid_area": null,
            "grid_template_columns": null,
            "flex": null,
            "_model_name": "LayoutModel",
            "justify_items": null,
            "grid_row": null,
            "max_height": null,
            "align_content": null,
            "visibility": null,
            "align_self": null,
            "height": null,
            "min_height": null,
            "padding": null,
            "grid_auto_rows": null,
            "grid_gap": null,
            "max_width": null,
            "order": null,
            "_view_module_version": "1.2.0",
            "grid_template_areas": null,
            "object_position": null,
            "object_fit": null,
            "grid_auto_columns": null,
            "margin": null,
            "display": null,
            "left": null
          }
        },
        "e950e3c8a8294dc285e0f46ffc2d6922": {
          "model_module": "@jupyter-widgets/controls",
          "model_name": "DescriptionStyleModel",
          "state": {
            "_view_name": "StyleView",
            "_model_name": "DescriptionStyleModel",
            "description_width": "",
            "_view_module": "@jupyter-widgets/base",
            "_model_module_version": "1.5.0",
            "_view_count": null,
            "_view_module_version": "1.2.0",
            "_model_module": "@jupyter-widgets/controls"
          }
        },
        "552dbf36c7f845ec8860296ae1543a5a": {
          "model_module": "@jupyter-widgets/base",
          "model_name": "LayoutModel",
          "state": {
            "_view_name": "LayoutView",
            "grid_template_rows": null,
            "right": null,
            "justify_content": null,
            "_view_module": "@jupyter-widgets/base",
            "overflow": null,
            "_model_module_version": "1.2.0",
            "_view_count": null,
            "flex_flow": null,
            "width": null,
            "min_width": null,
            "border": null,
            "align_items": null,
            "bottom": null,
            "_model_module": "@jupyter-widgets/base",
            "top": null,
            "grid_column": null,
            "overflow_y": null,
            "overflow_x": null,
            "grid_auto_flow": null,
            "grid_area": null,
            "grid_template_columns": null,
            "flex": null,
            "_model_name": "LayoutModel",
            "justify_items": null,
            "grid_row": null,
            "max_height": null,
            "align_content": null,
            "visibility": null,
            "align_self": null,
            "height": null,
            "min_height": null,
            "padding": null,
            "grid_auto_rows": null,
            "grid_gap": null,
            "max_width": null,
            "order": null,
            "_view_module_version": "1.2.0",
            "grid_template_areas": null,
            "object_position": null,
            "object_fit": null,
            "grid_auto_columns": null,
            "margin": null,
            "display": null,
            "left": null
          }
        },
        "937da326e8ba4400918c471e90c9258e": {
          "model_module": "@jupyter-widgets/controls",
          "model_name": "HBoxModel",
          "state": {
            "_view_name": "HBoxView",
            "_dom_classes": [],
            "_model_name": "HBoxModel",
            "_view_module": "@jupyter-widgets/controls",
            "_model_module_version": "1.5.0",
            "_view_count": null,
            "_view_module_version": "1.5.0",
            "box_style": "",
            "layout": "IPY_MODEL_4ea73cb84abd4d208a6a5877d9ca6e13",
            "_model_module": "@jupyter-widgets/controls",
            "children": [
              "IPY_MODEL_9517170aa0bd47d59ff133b30b798ed3",
              "IPY_MODEL_aa9c328388a54de484d02d06083a6967"
            ]
          }
        },
        "4ea73cb84abd4d208a6a5877d9ca6e13": {
          "model_module": "@jupyter-widgets/base",
          "model_name": "LayoutModel",
          "state": {
            "_view_name": "LayoutView",
            "grid_template_rows": null,
            "right": null,
            "justify_content": null,
            "_view_module": "@jupyter-widgets/base",
            "overflow": null,
            "_model_module_version": "1.2.0",
            "_view_count": null,
            "flex_flow": null,
            "width": null,
            "min_width": null,
            "border": null,
            "align_items": null,
            "bottom": null,
            "_model_module": "@jupyter-widgets/base",
            "top": null,
            "grid_column": null,
            "overflow_y": null,
            "overflow_x": null,
            "grid_auto_flow": null,
            "grid_area": null,
            "grid_template_columns": null,
            "flex": null,
            "_model_name": "LayoutModel",
            "justify_items": null,
            "grid_row": null,
            "max_height": null,
            "align_content": null,
            "visibility": null,
            "align_self": null,
            "height": null,
            "min_height": null,
            "padding": null,
            "grid_auto_rows": null,
            "grid_gap": null,
            "max_width": null,
            "order": null,
            "_view_module_version": "1.2.0",
            "grid_template_areas": null,
            "object_position": null,
            "object_fit": null,
            "grid_auto_columns": null,
            "margin": null,
            "display": null,
            "left": null
          }
        },
        "9517170aa0bd47d59ff133b30b798ed3": {
          "model_module": "@jupyter-widgets/controls",
          "model_name": "FloatProgressModel",
          "state": {
            "_view_name": "ProgressView",
            "style": "IPY_MODEL_1c45dbf0d5bc41c5844a4708b41a2819",
            "_dom_classes": [],
            "description": "",
            "_model_name": "FloatProgressModel",
            "bar_style": "success",
            "max": 1,
            "_view_module": "@jupyter-widgets/controls",
            "_model_module_version": "1.5.0",
            "value": 1,
            "_view_count": null,
            "_view_module_version": "1.5.0",
            "orientation": "horizontal",
            "min": 0,
            "description_tooltip": null,
            "_model_module": "@jupyter-widgets/controls",
            "layout": "IPY_MODEL_b058192abf0b45fc9672eb895892868e"
          }
        },
        "aa9c328388a54de484d02d06083a6967": {
          "model_module": "@jupyter-widgets/controls",
          "model_name": "HTMLModel",
          "state": {
            "_view_name": "HTMLView",
            "style": "IPY_MODEL_25eae9c6b3c64df1b08720fd54e76217",
            "_dom_classes": [],
            "description": "",
            "_model_name": "HTMLModel",
            "placeholder": "​",
            "_view_module": "@jupyter-widgets/controls",
            "_model_module_version": "1.5.0",
            "value": " 1654784/? [00:00&lt;00:00, 2029166.06it/s]",
            "_view_count": null,
            "_view_module_version": "1.5.0",
            "description_tooltip": null,
            "_model_module": "@jupyter-widgets/controls",
            "layout": "IPY_MODEL_92aa239d03d84f15b563714daa8d4354"
          }
        },
        "1c45dbf0d5bc41c5844a4708b41a2819": {
          "model_module": "@jupyter-widgets/controls",
          "model_name": "ProgressStyleModel",
          "state": {
            "_view_name": "StyleView",
            "_model_name": "ProgressStyleModel",
            "description_width": "initial",
            "_view_module": "@jupyter-widgets/base",
            "_model_module_version": "1.5.0",
            "_view_count": null,
            "_view_module_version": "1.2.0",
            "bar_color": null,
            "_model_module": "@jupyter-widgets/controls"
          }
        },
        "b058192abf0b45fc9672eb895892868e": {
          "model_module": "@jupyter-widgets/base",
          "model_name": "LayoutModel",
          "state": {
            "_view_name": "LayoutView",
            "grid_template_rows": null,
            "right": null,
            "justify_content": null,
            "_view_module": "@jupyter-widgets/base",
            "overflow": null,
            "_model_module_version": "1.2.0",
            "_view_count": null,
            "flex_flow": null,
            "width": null,
            "min_width": null,
            "border": null,
            "align_items": null,
            "bottom": null,
            "_model_module": "@jupyter-widgets/base",
            "top": null,
            "grid_column": null,
            "overflow_y": null,
            "overflow_x": null,
            "grid_auto_flow": null,
            "grid_area": null,
            "grid_template_columns": null,
            "flex": null,
            "_model_name": "LayoutModel",
            "justify_items": null,
            "grid_row": null,
            "max_height": null,
            "align_content": null,
            "visibility": null,
            "align_self": null,
            "height": null,
            "min_height": null,
            "padding": null,
            "grid_auto_rows": null,
            "grid_gap": null,
            "max_width": null,
            "order": null,
            "_view_module_version": "1.2.0",
            "grid_template_areas": null,
            "object_position": null,
            "object_fit": null,
            "grid_auto_columns": null,
            "margin": null,
            "display": null,
            "left": null
          }
        },
        "25eae9c6b3c64df1b08720fd54e76217": {
          "model_module": "@jupyter-widgets/controls",
          "model_name": "DescriptionStyleModel",
          "state": {
            "_view_name": "StyleView",
            "_model_name": "DescriptionStyleModel",
            "description_width": "",
            "_view_module": "@jupyter-widgets/base",
            "_model_module_version": "1.5.0",
            "_view_count": null,
            "_view_module_version": "1.2.0",
            "_model_module": "@jupyter-widgets/controls"
          }
        },
        "92aa239d03d84f15b563714daa8d4354": {
          "model_module": "@jupyter-widgets/base",
          "model_name": "LayoutModel",
          "state": {
            "_view_name": "LayoutView",
            "grid_template_rows": null,
            "right": null,
            "justify_content": null,
            "_view_module": "@jupyter-widgets/base",
            "overflow": null,
            "_model_module_version": "1.2.0",
            "_view_count": null,
            "flex_flow": null,
            "width": null,
            "min_width": null,
            "border": null,
            "align_items": null,
            "bottom": null,
            "_model_module": "@jupyter-widgets/base",
            "top": null,
            "grid_column": null,
            "overflow_y": null,
            "overflow_x": null,
            "grid_auto_flow": null,
            "grid_area": null,
            "grid_template_columns": null,
            "flex": null,
            "_model_name": "LayoutModel",
            "justify_items": null,
            "grid_row": null,
            "max_height": null,
            "align_content": null,
            "visibility": null,
            "align_self": null,
            "height": null,
            "min_height": null,
            "padding": null,
            "grid_auto_rows": null,
            "grid_gap": null,
            "max_width": null,
            "order": null,
            "_view_module_version": "1.2.0",
            "grid_template_areas": null,
            "object_position": null,
            "object_fit": null,
            "grid_auto_columns": null,
            "margin": null,
            "display": null,
            "left": null
          }
        },
        "26416b41050344248ccba97dd339a9c6": {
          "model_module": "@jupyter-widgets/controls",
          "model_name": "HBoxModel",
          "state": {
            "_view_name": "HBoxView",
            "_dom_classes": [],
            "_model_name": "HBoxModel",
            "_view_module": "@jupyter-widgets/controls",
            "_model_module_version": "1.5.0",
            "_view_count": null,
            "_view_module_version": "1.5.0",
            "box_style": "",
            "layout": "IPY_MODEL_e84c72f03b8245e0ac3fcfb94c751982",
            "_model_module": "@jupyter-widgets/controls",
            "children": [
              "IPY_MODEL_80d5f1fa30dc491f9b75ff0c1eebe575",
              "IPY_MODEL_966b456c8f70404882b1c68f3f66bab6"
            ]
          }
        },
        "e84c72f03b8245e0ac3fcfb94c751982": {
          "model_module": "@jupyter-widgets/base",
          "model_name": "LayoutModel",
          "state": {
            "_view_name": "LayoutView",
            "grid_template_rows": null,
            "right": null,
            "justify_content": null,
            "_view_module": "@jupyter-widgets/base",
            "overflow": null,
            "_model_module_version": "1.2.0",
            "_view_count": null,
            "flex_flow": null,
            "width": null,
            "min_width": null,
            "border": null,
            "align_items": null,
            "bottom": null,
            "_model_module": "@jupyter-widgets/base",
            "top": null,
            "grid_column": null,
            "overflow_y": null,
            "overflow_x": null,
            "grid_auto_flow": null,
            "grid_area": null,
            "grid_template_columns": null,
            "flex": null,
            "_model_name": "LayoutModel",
            "justify_items": null,
            "grid_row": null,
            "max_height": null,
            "align_content": null,
            "visibility": null,
            "align_self": null,
            "height": null,
            "min_height": null,
            "padding": null,
            "grid_auto_rows": null,
            "grid_gap": null,
            "max_width": null,
            "order": null,
            "_view_module_version": "1.2.0",
            "grid_template_areas": null,
            "object_position": null,
            "object_fit": null,
            "grid_auto_columns": null,
            "margin": null,
            "display": null,
            "left": null
          }
        },
        "80d5f1fa30dc491f9b75ff0c1eebe575": {
          "model_module": "@jupyter-widgets/controls",
          "model_name": "FloatProgressModel",
          "state": {
            "_view_name": "ProgressView",
            "style": "IPY_MODEL_d7c5f81414634fa7806282b8e16ca1d7",
            "_dom_classes": [],
            "description": "  0%",
            "_model_name": "FloatProgressModel",
            "bar_style": "info",
            "max": 1,
            "_view_module": "@jupyter-widgets/controls",
            "_model_module_version": "1.5.0",
            "value": 0,
            "_view_count": null,
            "_view_module_version": "1.5.0",
            "orientation": "horizontal",
            "min": 0,
            "description_tooltip": null,
            "_model_module": "@jupyter-widgets/controls",
            "layout": "IPY_MODEL_6f235076752f49ac9d754bda92f7dbf1"
          }
        },
        "966b456c8f70404882b1c68f3f66bab6": {
          "model_module": "@jupyter-widgets/controls",
          "model_name": "HTMLModel",
          "state": {
            "_view_name": "HTMLView",
            "style": "IPY_MODEL_b3446ab174fa404ca4aa23175b8a71e9",
            "_dom_classes": [],
            "description": "",
            "_model_name": "HTMLModel",
            "placeholder": "​",
            "_view_module": "@jupyter-widgets/controls",
            "_model_module_version": "1.5.0",
            "value": " 0/4542 [00:00&lt;?, ?it/s]",
            "_view_count": null,
            "_view_module_version": "1.5.0",
            "description_tooltip": null,
            "_model_module": "@jupyter-widgets/controls",
            "layout": "IPY_MODEL_97895207a4a2452ea15bb4fb7218297e"
          }
        },
        "d7c5f81414634fa7806282b8e16ca1d7": {
          "model_module": "@jupyter-widgets/controls",
          "model_name": "ProgressStyleModel",
          "state": {
            "_view_name": "StyleView",
            "_model_name": "ProgressStyleModel",
            "description_width": "initial",
            "_view_module": "@jupyter-widgets/base",
            "_model_module_version": "1.5.0",
            "_view_count": null,
            "_view_module_version": "1.2.0",
            "bar_color": null,
            "_model_module": "@jupyter-widgets/controls"
          }
        },
        "6f235076752f49ac9d754bda92f7dbf1": {
          "model_module": "@jupyter-widgets/base",
          "model_name": "LayoutModel",
          "state": {
            "_view_name": "LayoutView",
            "grid_template_rows": null,
            "right": null,
            "justify_content": null,
            "_view_module": "@jupyter-widgets/base",
            "overflow": null,
            "_model_module_version": "1.2.0",
            "_view_count": null,
            "flex_flow": null,
            "width": null,
            "min_width": null,
            "border": null,
            "align_items": null,
            "bottom": null,
            "_model_module": "@jupyter-widgets/base",
            "top": null,
            "grid_column": null,
            "overflow_y": null,
            "overflow_x": null,
            "grid_auto_flow": null,
            "grid_area": null,
            "grid_template_columns": null,
            "flex": null,
            "_model_name": "LayoutModel",
            "justify_items": null,
            "grid_row": null,
            "max_height": null,
            "align_content": null,
            "visibility": null,
            "align_self": null,
            "height": null,
            "min_height": null,
            "padding": null,
            "grid_auto_rows": null,
            "grid_gap": null,
            "max_width": null,
            "order": null,
            "_view_module_version": "1.2.0",
            "grid_template_areas": null,
            "object_position": null,
            "object_fit": null,
            "grid_auto_columns": null,
            "margin": null,
            "display": null,
            "left": null
          }
        },
        "b3446ab174fa404ca4aa23175b8a71e9": {
          "model_module": "@jupyter-widgets/controls",
          "model_name": "DescriptionStyleModel",
          "state": {
            "_view_name": "StyleView",
            "_model_name": "DescriptionStyleModel",
            "description_width": "",
            "_view_module": "@jupyter-widgets/base",
            "_model_module_version": "1.5.0",
            "_view_count": null,
            "_view_module_version": "1.2.0",
            "_model_module": "@jupyter-widgets/controls"
          }
        },
        "97895207a4a2452ea15bb4fb7218297e": {
          "model_module": "@jupyter-widgets/base",
          "model_name": "LayoutModel",
          "state": {
            "_view_name": "LayoutView",
            "grid_template_rows": null,
            "right": null,
            "justify_content": null,
            "_view_module": "@jupyter-widgets/base",
            "overflow": null,
            "_model_module_version": "1.2.0",
            "_view_count": null,
            "flex_flow": null,
            "width": null,
            "min_width": null,
            "border": null,
            "align_items": null,
            "bottom": null,
            "_model_module": "@jupyter-widgets/base",
            "top": null,
            "grid_column": null,
            "overflow_y": null,
            "overflow_x": null,
            "grid_auto_flow": null,
            "grid_area": null,
            "grid_template_columns": null,
            "flex": null,
            "_model_name": "LayoutModel",
            "justify_items": null,
            "grid_row": null,
            "max_height": null,
            "align_content": null,
            "visibility": null,
            "align_self": null,
            "height": null,
            "min_height": null,
            "padding": null,
            "grid_auto_rows": null,
            "grid_gap": null,
            "max_width": null,
            "order": null,
            "_view_module_version": "1.2.0",
            "grid_template_areas": null,
            "object_position": null,
            "object_fit": null,
            "grid_auto_columns": null,
            "margin": null,
            "display": null,
            "left": null
          }
        }
      }
    }
  },
  "cells": [
    {
      "cell_type": "markdown",
      "metadata": {
        "id": "view-in-github",
        "colab_type": "text"
      },
      "source": [
        "<a href=\"https://colab.research.google.com/github/kaleem500bc/Simple_GAN-torch-and-tensorflow/blob/master/Simple_GAN%20torch%20and%20tensorflow.ipynb\" target=\"_parent\"><img src=\"https://colab.research.google.com/assets/colab-badge.svg\" alt=\"Open In Colab\"/></a>"
      ]
    },
    {
      "cell_type": "code",
      "metadata": {
        "id": "gQhLdzLa8zX8",
        "colab_type": "code",
        "colab": {}
      },
      "source": [
        "!pip install torchvision\n",
        "!pip install torch\n",
        "!pip install torchviz\n",
        "!pip install tensorboard\n",
        "\n",
        "%load_ext tensorboard"
      ],
      "execution_count": null,
      "outputs": []
    },
    {
      "cell_type": "code",
      "metadata": {
        "id": "eQvIyr5heI7o",
        "colab_type": "code",
        "colab": {}
      },
      "source": [
        "#import libs\n",
        "import torch\n",
        "from torch import nn\n",
        "from torchvision import datasets, transforms\n",
        "import matplotlib.pyplot as plt\n",
        "import torchvision\n",
        "from torch.utils.tensorboard import SummaryWriter\n",
        "# from torch.auto_grad import Variable\n",
        "import torch.nn.functional as F\n",
        "from torchviz import make_dot \n",
        "from torch.autograd import Variable\n"
      ],
      "execution_count": null,
      "outputs": []
    },
    {
      "cell_type": "code",
      "metadata": {
        "id": "k9pk-rLzknez",
        "colab_type": "code",
        "colab": {
          "base_uri": "https://localhost:8080/",
          "height": 269
        },
        "outputId": "a4e7f5e6-bcad-4936-cb02-e1fcad1c7304"
      },
      "source": [
        "#Download dataset = training and test set\n",
        "   #define a transform to normalize the data\n",
        "transform = transforms.Compose([\n",
        "                                transforms.ToTensor(),\n",
        "                                transforms.Normalize((0.5,),(0.5,))\n",
        "])\n",
        "train_set = datasets.MNIST('MNIST_data/', download = True, train=True, \n",
        "                           transform = transform)\n",
        "trainloader = torch.utils.data.DataLoader(train_set,batch_size=64, shuffle=True)\n",
        "\n",
        "dataiter = iter(trainloader)\n",
        "images, labels = dataiter.next()\n",
        "# tempImg = images\n",
        "# fig = plt.figure()\n",
        "# fig.add_subplot(1,1,1)\n",
        "# tempImage = images[0].numpy().reshape((28,28))\n",
        "# plt.imshow(tempImage)\n",
        "# plt.show()\n",
        "# images.shape\n",
        "\n",
        "\n",
        "\n",
        "\n",
        "def matplotlib_imshow(img, one_channel=False):\n",
        "    if one_channel:\n",
        "        img = img.mean(dim=0)\n",
        "    img = img / 2 + 0.5     # unnormalize\n",
        "    npimg = img.numpy()\n",
        "    if one_channel:\n",
        "        plt.imshow(npimg, cmap=\"Greys\")\n",
        "    else:\n",
        "        plt.imshow(np.transpose(npimg, (1, 2, 0)))\n",
        "\n",
        "\n",
        "\n",
        "img_grid = torchvision.utils.make_grid(images)\n",
        "matplotlib_imshow(img_grid, one_channel=True)\n",
        "\n",
        "\n",
        "\n"
      ],
      "execution_count": null,
      "outputs": [
        {
          "output_type": "display_data",
          "data": {
            "image/png": "[encoded data removed]",
            "text/plain": [
              "<Figure size 432x288 with 1 Axes>"
            ]
          },
          "metadata": {
            "tags": [],
            "needs_background": "light"
          }
        }
      ]
    },
    {
      "cell_type": "code",
      "metadata": {
        "id": "MJwgz3cSkt15",
        "colab_type": "code",
        "colab": {}
      },
      "source": [
        "tensorboard --logdir=runs"
      ],
      "execution_count": null,
      "outputs": []
    },
    {
      "cell_type": "markdown",
      "metadata": {
        "id": "Fi9O94pns2ZZ",
        "colab_type": "text"
      },
      "source": [
        ""
      ]
    },
    {
      "cell_type": "code",
      "metadata": {
        "id": "_cgr6wMbvrb2",
        "colab_type": "code",
        "colab": {}
      },
      "source": [
        "transform = transforms.Compose([transforms.ToTensor(),\n",
        "                        transforms.Normalize((0.5,),(0.5,))])\n",
        "\n",
        "fake_dataset = torchvision.datasets.FakeData(60000,(1,100),1,transform)\n",
        "fake_dataloader = torch.utils.data.DataLoader(fake_dataset,64)\n",
        "fakeDataIter = iter(fake_dataloader)\n",
        "\n",
        "noise = torch.randn(64,100)\n",
        "\n",
        "\n",
        "\n"
      ],
      "execution_count": null,
      "outputs": []
    },
    {
      "cell_type": "code",
      "metadata": {
        "id": "5F8iN6UOLQQv",
        "colab_type": "code",
        "colab": {}
      },
      "source": [
        "# noiseInput = torch.randn(64,100).to(\"cuda\")\n",
        "tfdata = torch.utils.data.DataLoader(fake_dataset,128)\n",
        "itfdata = iter(tfdata)"
      ],
      "execution_count": null,
      "outputs": []
    },
    {
      "cell_type": "code",
      "metadata": {
        "id": "MV0YB-XEYBk9",
        "colab_type": "code",
        "colab": {}
      },
      "source": [
        "class GeneratorM(nn.Module):\n",
        "    def __init__(self):\n",
        "        super(GeneratorM, self).__init__()\n",
        "        self.main = nn.Sequential(\n",
        "            # input is Z, going into a convolution\n",
        "            nn.ConvTranspose2d( 1, 64 * 8, 4, 1, 0, bias=False),\n",
        "            nn.BatchNorm2d(64 * 8),\n",
        "            nn.ReLU(True),\n",
        "            # state size. (64*8) x 4 x 4\n",
        "            nn.ConvTranspose2d(64 * 8, 64 * 4, 4, 2, 1, bias=False),\n",
        "            nn.BatchNorm2d(64 * 4),\n",
        "            nn.ReLU(True),\n",
        "            # state size. (64*4) x 8 x 8\n",
        "            nn.ConvTranspose2d( 64 * 4, 64 * 2, 4, 2, 1, bias=False),\n",
        "            nn.BatchNorm2d(64 * 2),\n",
        "            nn.ReLU(True),\n",
        "            # state size. (64*2) x 16 x 16\n",
        "            nn.ConvTranspose2d( 64 * 2, 64, 4, 2, 1, bias=False),\n",
        "            nn.BatchNorm2d(64),\n",
        "            nn.ReLU(True),\n",
        "            # state size. (64) x 32 x 32\n",
        "            nn.ConvTranspose2d( 64, 1, 4, 2, 1, bias=False),\n",
        "            nn.Tanh()\n",
        "            # state size. (3) x 64 x 64\n",
        "        )\n",
        "\n",
        "    def forward(self, input):\n",
        "        return self.main(input)\n",
        "\n",
        "\n",
        "\n",
        "\n",
        "class Discriminator(nn.Module):\n",
        "    def __init__(self):\n",
        "        super(Discriminator, self).__init__()\n",
        "        self.main = nn.Sequential(\n",
        "            # input is 3 x 64 x 64\n",
        "            nn.Conv2d(1, 64, 2, 2, 1, bias=False),\n",
        "            nn.LeakyReLU(0.2, inplace=True),\n",
        "            # state size. 64 x 32 x 32\n",
        "            nn.Conv2d(64, 64 * 2, 2, 2, 1, bias=False),\n",
        "            nn.BatchNorm2d(64 * 2),\n",
        "            nn.LeakyReLU(0.2, inplace=True),\n",
        "            # state size. (64*2) x 16 x 16\n",
        "            nn.Conv2d(64 * 2, 64 * 4, 2, 2, 1, bias=False),\n",
        "            nn.BatchNorm2d(64 * 4),\n",
        "            nn.LeakyReLU(0.2, inplace=True),\n",
        "            # state size. (64*4) x 8 x 8\n",
        "            nn.Conv2d(64 * 4, 64 * 8, 2, 2, 1, bias=False),\n",
        "            nn.BatchNorm2d(64 * 8),\n",
        "            nn.LeakyReLU(0.2, inplace=True),\n",
        "            # state size. (64*8) x 4 x 4\n",
        "            nn.Conv2d(64 * 8, 1, 2, 1, 0, bias=False),\n",
        "            nn.Sigmoid()\n",
        "        )\n",
        "\n",
        "    def forward(self, input):\n",
        "        return self.main(input)\n",
        "\n",
        "\n",
        "netG = GeneratorM().to(\"cuda\")\n",
        "netD = Discriminator().to(\"cuda\")\n",
        "\n"
      ],
      "execution_count": null,
      "outputs": []
    },
    {
      "cell_type": "code",
      "metadata": {
        "id": "lV1xx_0UZ6M5",
        "colab_type": "code",
        "colab": {}
      },
      "source": [
        "criterionN = nn.BCELoss()\n",
        "\n",
        "optimD = torch.optim.Adam(netD.parameters(),lr = 0.0002)\n",
        "optimG = torch.optim.Adam(netG.parameters(),lr=0.0002)\n",
        "\n",
        "\n"
      ],
      "execution_count": null,
      "outputs": []
    },
    {
      "cell_type": "code",
      "metadata": {
        "id": "BCoaC7xTPGFA",
        "colab_type": "code",
        "colab": {}
      },
      "source": [
        "# noiseInput,flabel = fakeDataIter.next()\n",
        "# # noiseInput = noiseInput.view(flabel.shape[0],-1)\n",
        "\n",
        "# print(noiseInput.shape)\n",
        "\n",
        "# print(noiseInput[0])\n",
        "\n",
        "# rImg,label = dataiter.next()\n",
        "\n",
        "# rImg.shape\n",
        "# netD(rImg.float().to(\"cuda\"))\n"
      ],
      "execution_count": null,
      "outputs": []
    },
    {
      "cell_type": "code",
      "metadata": {
        "id": "pcBoDMDxFTRe",
        "colab_type": "code",
        "colab": {
          "base_uri": "https://localhost:8080/",
          "height": 51
        },
        "outputId": "476d1aa3-bc4c-45c0-c364-5609266468de"
      },
      "source": [
        "ifakedata = torch.utils.data.DataLoader(fake_dataset,64)\n",
        "\n",
        "for rImg, rClas in dataiter:\n",
        "    # r = rImg.view((rImg.shape[0],784))\n",
        "    rImg = rImg.to(\"cuda\")\n",
        "    rClass = torch.ones_like(rClas)\n",
        "    fClass = torch.zeros_like(rClas)\n",
        "    rClass = rClass.to(\"cuda\")\n",
        "    fClass = fClass.to(\"cuda\")\n",
        "    noiseInput,flabel = fakeDataIter.next()\n",
        "    # noiseInput = noiseInput.view(flabel.shape[0],-1)\n",
        "    # noiseInput = torch.unsqueeze(noiseInput,1)\n",
        "    noiseInput = noiseInput.to(\"cuda\")\n",
        "    #generator output\n",
        "    fImg = netG(noiseInput)\n",
        "    fImg = fImg.to(\"cuda\")\n",
        "    #discriminator training\n",
        "    print(rImg.shape)\n",
        "    print(fImg.shape)\n",
        "    break\n",
        "    # dROutput = netD(rImg)\n",
        "    # dFOutput = netD(fImg)\n",
        "    # dROutput = dROutput.view(dROutput.shape[0]).float()\n",
        "    # rClass = rClass.float()\n",
        "    # dFOutput = dFOutput.float()\n",
        "    # fClass = fClass.float()\n",
        "    # dTotalLoss = criterionN(dROutput,rClass)\n",
        "    # optimD.zero_grad()\n",
        "    # dTotalLoss.backward()\n",
        "    # optimD.step()\n",
        "\n",
        "\n",
        "    # #generator training\n",
        "    # gTrain= netD(fImg)\n",
        "    # rClass2=  torch.ones_like(rClass).float()\n",
        "    # gLossD = criterionN(gTrain,rClass2)\n",
        "    # # make_dot(gLossD).render(\"attached\",format=\"png\")\n",
        "    # optimG.zero_grad()\n",
        "    # gLossD.backward()\n",
        "    # optimG.step()\n",
        "\n",
        "\n",
        "\n",
        "\n",
        "\n"
      ],
      "execution_count": null,
      "outputs": [
        {
          "output_type": "stream",
          "text": [
            "torch.Size([64, 1, 28, 28])\n",
            "torch.Size([64, 1, 64, 1648])\n"
          ],
          "name": "stdout"
        }
      ]
    },
    {
      "cell_type": "code",
      "metadata": {
        "id": "b2lvXweKm_Iu",
        "colab_type": "code",
        "colab": {
          "base_uri": "https://localhost:8080/",
          "height": 187
        },
        "outputId": "976f58b1-264d-4127-b0c1-e4ce4438a422"
      },
      "source": [
        "m = nn.ConvTranspose2d(1, 1, (1, 1))\n",
        "input = torch.randn(2, 1,1,1)\n",
        "output = m(input)\n",
        "print(input.shape)\n",
        "print(input)\n",
        "print(output.shape)\n",
        "print(output)\n",
        "\n",
        "\n"
      ],
      "execution_count": null,
      "outputs": [
        {
          "output_type": "stream",
          "text": [
            "torch.Size([2, 1, 1, 1])\n",
            "tensor([[[[ 0.0465]]],\n",
            "\n",
            "\n",
            "        [[[-0.7118]]]])\n",
            "torch.Size([2, 1, 1, 1])\n",
            "tensor([[[[ 0.3811]]],\n",
            "\n",
            "\n",
            "        [[[-0.1929]]]], grad_fn=<SlowConvTranspose2DBackward>)\n"
          ],
          "name": "stdout"
        }
      ]
    },
    {
      "cell_type": "markdown",
      "metadata": {
        "id": "nv6RMesW1O9V",
        "colab_type": "text"
      },
      "source": [
        "Implement GAN with Tensorflow"
      ]
    },
    {
      "cell_type": "code",
      "metadata": {
        "id": "MS10dTpy1aG0",
        "colab_type": "code",
        "colab": {}
      },
      "source": [
        "!pip install -q imageio"
      ],
      "execution_count": null,
      "outputs": []
    },
    {
      "cell_type": "code",
      "metadata": {
        "id": "Kj_heavM1N4K",
        "colab_type": "code",
        "colab": {
          "base_uri": "https://localhost:8080/",
          "height": 51
        },
        "outputId": "1b91e18e-7ceb-4260-9d43-efd5158e3433"
      },
      "source": [
        "import tensorflow as tf\n",
        "\n",
        "import glob\n",
        "import imageio\n",
        "import matplotlib.pyplot as plt\n",
        "import numpy as np\n",
        "import os\n",
        "import PIL\n",
        "from tensorflow.keras import layers\n",
        "import time\n",
        "from IPython import display\n",
        "%load_ext tensorboard"
      ],
      "execution_count": null,
      "outputs": [
        {
          "output_type": "stream",
          "text": [
            "The tensorboard extension is already loaded. To reload it, use:\n",
            "  %reload_ext tensorboard\n"
          ],
          "name": "stdout"
        }
      ]
    },
    {
      "cell_type": "code",
      "metadata": {
        "id": "O3vD0PMw1tgq",
        "colab_type": "code",
        "colab": {}
      },
      "source": [
        "(train_dataset,train_labels), (_,_) = tf.keras.datasets.mnist.load_data()\n",
        "\n",
        "train_dataset_reshape = train_dataset.reshape(train_dataset.shape[0],28,28,1).astype('float32')\n",
        "\n",
        "train_dataset_normalize = (train_dataset-127.5)/127.5 #range [-1,1]"
      ],
      "execution_count": null,
      "outputs": []
    },
    {
      "cell_type": "code",
      "metadata": {
        "id": "MJ3lGeXX2jrC",
        "colab_type": "code",
        "colab": {}
      },
      "source": [
        "\n",
        "train_dataset_shuffled_batched = tf.data.Dataset.from_tensor_slices(train_dataset_normalize).shuffle(60000).batch(256)\n"
      ],
      "execution_count": null,
      "outputs": []
    },
    {
      "cell_type": "code",
      "metadata": {
        "id": "CTvrTI-c4PJz",
        "colab_type": "code",
        "colab": {}
      },
      "source": [
        "#Generator\n",
        "\n",
        "def netG():\n",
        "  model = tf.keras.Sequential()\n",
        "  model.add(layers.Dense(7*7*256,input_shape= (100,)))\n",
        "  model.add(layers.BatchNormalization())\n",
        "  model.add(layers.LeakyReLU())\n",
        "  model.add(layers.Reshape((7,7,256)))\n",
        "\n",
        "  model.add(layers.Conv2DTranspose(128,(5,5),strides=(1,1), padding = 'same'))\n",
        "  model.add(layers.BatchNormalization())\n",
        "  model.add(layers.LeakyReLU())\n",
        "\n",
        "  model.add(layers.Conv2DTranspose(64,(5,5),strides=(2,2),padding='same'))\n",
        "  model.add(layers.BatchNormalization())\n",
        "  model.add(layers.LeakyReLU())\n",
        "\n",
        "  model.add(layers.Conv2DTranspose(1,(5,5),strides=(2,2),padding='same'))\n",
        "  return model\n",
        "\n",
        "\n",
        "\n"
      ],
      "execution_count": null,
      "outputs": []
    },
    {
      "cell_type": "code",
      "metadata": {
        "id": "SJzeHQaK7tIZ",
        "colab_type": "code",
        "colab": {
          "base_uri": "https://localhost:8080/",
          "height": 282
        },
        "outputId": "332fbc8e-c42e-47df-96d7-9b06a910637a"
      },
      "source": [
        "g_Model = netG()\n",
        "\n",
        "noise = tf.random.normal([1,100])\n",
        "\n",
        "generated_image = g_Model(noise, training=False)\n",
        "plt.imshow(generated_image[0,:,:,0],cmap='gray')\n"
      ],
      "execution_count": null,
      "outputs": [
        {
          "output_type": "execute_result",
          "data": {
            "text/plain": [
              "<matplotlib.image.AxesImage at 0x7f31744207b8>"
            ]
          },
          "metadata": {
            "tags": []
          },
          "execution_count": 30
        },
        {
          "output_type": "display_data",
          "data": {
            "image/png": "[encoded data removed]",
            "text/plain": [
              "<Figure size 432x288 with 1 Axes>"
            ]
          },
          "metadata": {
            "tags": [],
            "needs_background": "light"
          }
        }
      ]
    },
    {
      "cell_type": "code",
      "metadata": {
        "id": "ufc5tliR_K_m",
        "colab_type": "code",
        "colab": {}
      },
      "source": [
        "#Discriminator\n",
        "\n",
        "def netD():\n",
        "  model = tf.keras.Sequential()\n",
        "  model.add(layers.Conv2D(64,(5,5),strides=(2,2), padding='same', input_shape= [28,28,1]))\n",
        "\n",
        "  model.add(layers.LeakyReLU())\n",
        "  model.add(layers.Dropout(0.3))\n",
        "\n",
        "  model.add(layers.Conv2D(128,(5,5),strides=(2,2), padding='same'))\n",
        "  model.add(layers.LeakyReLU())\n",
        "  model.add(layers.Dropout(0.3))\n",
        "\n",
        "  model.add(layers.Flatten())\n",
        "  model.add(layers.Dense(1))\n",
        "  return model\n",
        "\n",
        "d_Model = netD()"
      ],
      "execution_count": null,
      "outputs": []
    },
    {
      "cell_type": "code",
      "metadata": {
        "id": "Jx6-Qn-JAXGD",
        "colab_type": "code",
        "colab": {}
      },
      "source": [
        "\n",
        "criterion = tf.keras.losses.BinaryCrossentropy(from_logits=True)"
      ],
      "execution_count": null,
      "outputs": []
    },
    {
      "cell_type": "code",
      "metadata": {
        "id": "CN4F-MJ0Asa0",
        "colab_type": "code",
        "colab": {}
      },
      "source": [
        "#discriminator loss\n",
        "\n",
        "def d_loss(r_output, f_output):\n",
        "  r_loss = criterion(tf.ones_like(r_output), r_output)\n",
        "  f_loss = criterion(tf.zeros_like(f_output),f_output)\n",
        "  total_loss = r_loss+f_loss\n",
        "  return total_loss\n"
      ],
      "execution_count": null,
      "outputs": []
    },
    {
      "cell_type": "code",
      "metadata": {
        "id": "qRtH31DbBQM0",
        "colab_type": "code",
        "colab": {}
      },
      "source": [
        "#generator loss\n",
        "\n",
        "def g_loss(f_output):\n",
        "  loss = criterion(tf.ones_like(f_output), f_output)\n",
        "  return loss\n",
        "  "
      ],
      "execution_count": null,
      "outputs": []
    },
    {
      "cell_type": "code",
      "metadata": {
        "id": "hYQvpNqrBgyN",
        "colab_type": "code",
        "colab": {}
      },
      "source": [
        "g_optimizer = tf.keras.optimizers.Adam(1e-4)\n",
        "d_optimizer = tf.keras.optimizers.Adam(1e-4)\n",
        "\n"
      ],
      "execution_count": null,
      "outputs": []
    },
    {
      "cell_type": "code",
      "metadata": {
        "id": "AUjMpIaDBw19",
        "colab_type": "code",
        "colab": {}
      },
      "source": [
        "#training\n",
        "\n",
        "epochs = 50\n",
        "noise_dim = 100\n",
        "num_examples = 16\n",
        "seed = tf.random.normal([num_examples, noise_dim])\n"
      ],
      "execution_count": null,
      "outputs": []
    },
    {
      "cell_type": "code",
      "metadata": {
        "id": "wikraCEuCMs3",
        "colab_type": "code",
        "colab": {}
      },
      "source": [
        "\n",
        "def training_step(images):\n",
        "  noise = tf.random.normal([256,noise_dim])\n",
        "  with tf.GradientTape() as g_tape, tf.GradientTape() as d_tape:\n",
        "    g_images = g_Model(noise, training=True)\n",
        "\n",
        "    r_output =  d_Model(images, training=True)\n",
        "    f_output = d_Model(g_images,training=True)\n",
        "\n",
        "    generator_loss = g_loss(f_output)\n",
        "    disc_loss = d_loss(r_output,f_output)\n",
        "  \n",
        "  gradients_generator = g_tape.gradient(generator_loss, g_Model.trainable_variables)\n",
        "  g_optimizer.apply_gradients(zip(gradients_generator,g_Model.trainable_variables))\n",
        "\n",
        "  gradients_disc = d_tape.gradient(disc_loss, d_Model.trainable_variables)\n",
        "  d_optimizer.apply_gradients(zip(gradients_disc, d_Model.trainable_variables))\n",
        "\n",
        "\n"
      ],
      "execution_count": null,
      "outputs": []
    },
    {
      "cell_type": "code",
      "metadata": {
        "id": "-os8kN-idj9I",
        "colab_type": "code",
        "colab": {}
      },
      "source": [
        "def train(dataset, epochs):\n",
        "  for epoch in range(epochs):\n",
        "    for image_batch in dataset:\n",
        "    #   print(image_batch.shape)\n",
        "    #   break\n",
        "    # break\n",
        "      training_step(image_batch)\n",
        "    \n",
        "    display.clear_output(wait=True)\n",
        "    generate_and_save_images(g_Model, epoch+1,seed)\n",
        "  \n",
        "  display.clear_output(wait=True)\n",
        "  generate_and_save_images(g_Model,epochs,seed)"
      ],
      "execution_count": null,
      "outputs": []
    },
    {
      "cell_type": "code",
      "metadata": {
        "id": "HIDl0-B8gqvc",
        "colab_type": "code",
        "colab": {
          "base_uri": "https://localhost:8080/",
          "height": 85
        },
        "outputId": "1de0b2f3-c7b6-4d88-fa67-d25564ad3e31"
      },
      "source": [
        "for i in train_dataset_shuffled_batched:\n",
        "  print(i.shape\n",
        "  break"
      ],
      "execution_count": null,
      "outputs": [
        {
          "output_type": "stream",
          "text": [
            "(256, 28, 28)\n",
            "tf.Tensor(\n",
            "[-1. -1. -1. -1. -1. -1. -1. -1. -1. -1. -1. -1. -1. -1. -1. -1. -1. -1.\n",
            " -1. -1. -1. -1. -1. -1. -1. -1. -1. -1.], shape=(28,), dtype=float64)\n"
          ],
          "name": "stdout"
        }
      ]
    },
    {
      "cell_type": "code",
      "metadata": {
        "id": "0E-1gYPJeATV",
        "colab_type": "code",
        "colab": {}
      },
      "source": [
        "def generate_and_save_images(model, epoch, test_input):\n",
        "  # Notice `training` is set to False.\n",
        "  # This is so all layers run in inference mode (batchnorm).\n",
        "  predictions = model(test_input, training=False)\n",
        "\n",
        "  fig = plt.figure(figsize=(4,4))\n",
        "\n",
        "  for i in range(predictions.shape[0]):\n",
        "      plt.subplot(4, 4, i+1)\n",
        "      plt.imshow(predictions[i, :, :, 0] * 127.5 + 127.5, cmap='gray')\n",
        "      plt.axis('off')\n",
        "\n",
        "  plt.savefig('image_at_epoch_{:04d}.png'.format(epoch))\n",
        "  plt.show()"
      ],
      "execution_count": null,
      "outputs": []
    },
    {
      "cell_type": "code",
      "metadata": {
        "id": "vXiac3jtesrv",
        "colab_type": "code",
        "colab": {
          "base_uri": "https://localhost:8080/",
          "height": 248
        },
        "outputId": "6dea5cd6-cc82-4d4c-be9f-19733f5cb2e8"
      },
      "source": [
        "train(train_dataset_shuffled_batched, 50)"
      ],
      "execution_count": null,
      "outputs": [
        {
          "output_type": "display_data",
          "data": {
            "image/png": "[encoded data removed]",
            "text/plain": [
              "<Figure size 288x288 with 16 Axes>"
            ]
          },
          "metadata": {
            "tags": [],
            "needs_background": "light"
          }
        }
      ]
    },
    {
      "cell_type": "code",
      "metadata": {
        "id": "3c9NevdMpRJ5",
        "colab_type": "code",
        "colab": {
          "base_uri": "https://localhost:8080/",
          "height": 282
        },
        "outputId": "2a5cfd76-5bf1-4258-9189-2ca38139a33e"
      },
      "source": [
        "noise = tf.random.normal([1,100])\n",
        "\n",
        "generated_image = g_Model(noise, training=False)\n",
        "plt.imshow(generated_image[0,:,:,0],cmap='gray')"
      ],
      "execution_count": null,
      "outputs": [
        {
          "output_type": "execute_result",
          "data": {
            "text/plain": [
              "<matplotlib.image.AxesImage at 0x7f8643918b38>"
            ]
          },
          "metadata": {
            "tags": []
          },
          "execution_count": 95
        },
        {
          "output_type": "display_data",
          "data": {
            "image/png": "[encoded data removed]",
            "text/plain": [
              "<Figure size 432x288 with 1 Axes>"
            ]
          },
          "metadata": {
            "tags": [],
            "needs_background": "light"
          }
        }
      ]
    },
    {
      "cell_type": "code",
      "metadata": {
        "id": "IXVNT-nSrmoO",
        "colab_type": "code",
        "colab": {
          "base_uri": "https://localhost:8080/",
          "height": 34
        },
        "outputId": "c2fe9b2a-8e2b-45dd-b45f-98b3d658c808"
      },
      "source": [
        "tensorboard_callback = tf.keras.callbacks.TensorBoard()"
      ],
      "execution_count": null,
      "outputs": [
        {
          "output_type": "execute_result",
          "data": {
            "text/plain": [
              "<tensorflow.python.keras.engine.sequential.Sequential at 0x7f87299af3c8>"
            ]
          },
          "metadata": {
            "tags": []
          },
          "execution_count": 87
        }
      ]
    },
    {
      "cell_type": "code",
      "metadata": {
        "id": "s2eUxv0cs6oh",
        "colab_type": "code",
        "colab": {}
      },
      "source": [
        "%tensorboard --logdir logs"
      ],
      "execution_count": null,
      "outputs": []
    },
    {
      "cell_type": "markdown",
      "metadata": {
        "id": "x9E4ZiFCZFQn",
        "colab_type": "text"
      },
      "source": [
        "Pytorch GAN"
      ]
    },
    {
      "cell_type": "code",
      "metadata": {
        "id": "_gCvMdKLZEww",
        "colab_type": "code",
        "colab": {}
      },
      "source": [
        "import torch\n",
        "from torch import nn\n",
        "from torch.nn import functional as F\n",
        "import matplotlib.pyplot as plt\n",
        "import torchvision\n",
        "from torchvision import datasets\n"
      ],
      "execution_count": null,
      "outputs": []
    },
    {
      "cell_type": "code",
      "metadata": {
        "id": "-KRomv_IZ2iv",
        "colab_type": "code",
        "colab": {}
      },
      "source": [
        "\n",
        "\n",
        "class netG(nn.Module):\n",
        "  def __init__(self):\n",
        "    super().__init__()\n",
        "\n",
        "    self.c1 = nn.ConvTranspose2d(1,16,3)\n",
        "    self.c2 = nn.ConvTranspose2d(16,32,5)\n",
        "    self.c3 = nn.ConvTranspose2d(32,64,5)\n",
        "    self.c4 = nn.ConvTranspose2d(64,128,5)\n",
        "    self.c5 = nn.ConvTranspose2d(128,1,5)\n",
        "  def forward(self,x):\n",
        "    x = self.c1(x)\n",
        "    x = F.leaky_relu(self.c2(x))\n",
        "    x = F.leaky_relu(self.c3(x))\n",
        "    x = F.leaky_relu(self.c4(x))\n",
        "    x = torch.tanh(self.c5(x))\n",
        "    return x\n",
        "\n",
        "generatorM = netG()\n",
        "\n"
      ],
      "execution_count": null,
      "outputs": []
    },
    {
      "cell_type": "code",
      "metadata": {
        "id": "wGcgnuArqsrr",
        "colab_type": "code",
        "colab": {}
      },
      "source": [
        "inputNoise = torch.randn(64,1,10,10).to(\"cuda\")\n",
        "\n",
        "output = generatorM(inputNoise)\n",
        "\n",
        "output = output.view((64,28,28)).to(\"cpu\")\n",
        "\n",
        "print(output.shape)\n",
        "plt.imshow(output[0].detach().numpy(),cmap='gray')\n",
        "\n",
        "n = 0\n"
      ],
      "execution_count": null,
      "outputs": []
    },
    {
      "cell_type": "code",
      "metadata": {
        "id": "e5FZ2FKX67lW",
        "colab_type": "code",
        "colab": {}
      },
      "source": [
        "n=n+1\n",
        "plt.imshow(output[n].detach().numpy(),cmap=\"gray\")"
      ],
      "execution_count": null,
      "outputs": []
    },
    {
      "cell_type": "code",
      "metadata": {
        "id": "SKhNA-nWuKmR",
        "colab_type": "code",
        "colab": {}
      },
      "source": [
        "class netD(nn.Module):\n",
        "  def __init__(self):\n",
        "    super().__init__()\n",
        "    self.c1 = nn.Conv2d(1,32,3)\n",
        "    self.c2 = nn.Conv2d(32,64,3)\n",
        "    self.c3 = nn.Conv2d(64,128,3)\n",
        "    self.c4 = nn.Conv2d(128,256,3)\n",
        "    self.fl = nn.Flatten()\n",
        "    # self.f2 = nn.Linear(256,128)\n",
        "    # self.f3 = nn.Linear(128,64)\n",
        "    # self.f4 = nn.Linear(64,32)\n",
        "    # self.f5 = nn.Linear(32,16)\n",
        "    # self.f6 = nn.Linear(16,8)\n",
        "    self.f = nn.Linear(102400,1)\n",
        "  def forward(self,x):\n",
        "    # x = x.view(x.shape[0],28*28)\n",
        "    x = self.c1(x)\n",
        "    x = F.leaky_relu(self.c2(x))\n",
        "    x = F.leaky_relu(self.c3(x))\n",
        "    x = F.leaky_relu(self.c4(x))\n",
        "    # print(x.shape)\n",
        "    # x = F.leaky_relu(self.c5(x))\n",
        "    x = self.fl(x)\n",
        "    x = F.sigmoid(self.f(x))\n",
        "    return x\n",
        "\n",
        "discriminatorM = netD()"
      ],
      "execution_count": null,
      "outputs": []
    },
    {
      "cell_type": "code",
      "metadata": {
        "id": "xvmGZfmAxI8w",
        "colab_type": "code",
        "colab": {}
      },
      "source": [
        "criterion = nn.BCEWithLogitsLoss()\n",
        "\n",
        "def totalLossD(realOutput,fakeOutput):\n",
        "  ones = torch.ones_like(realOutput).to(\"cuda\")\n",
        "  # print(ones.shape)\n",
        "  zeros = torch.zeros_like(fakeOutput).to(\"cuda\")\n",
        "  loss1 = criterion(realOutput,ones)\n",
        "  loss0 = criterion(fakeOutput,zeros)\n",
        "  totalLoss = loss1+loss0\n",
        "  return totalLoss\n",
        "\n",
        "def totalLossG(fakeOutput):\n",
        "  ones = torch.ones_like(fakeOutput).to(\"cuda\")\n",
        "  loss = criterion(fakeOutput,ones)\n",
        "  return loss"
      ],
      "execution_count": null,
      "outputs": []
    },
    {
      "cell_type": "code",
      "metadata": {
        "id": "U1RFQfhEywZK",
        "colab_type": "code",
        "colab": {}
      },
      "source": [
        "\n",
        "optD = torch.optim.Adam(discriminatorM.parameters())\n",
        "optG = torch.optim.Adam(generatorM.parameters())\n"
      ],
      "execution_count": null,
      "outputs": []
    },
    {
      "cell_type": "code",
      "metadata": {
        "id": "Qyws_k-zM6yw",
        "colab_type": "code",
        "colab": {
          "base_uri": "https://localhost:8080/",
          "height": 386,
          "referenced_widgets": [
            "1fe9f3c98ccf4a3da9272c7b178021fa",
            "8523e397c82141dba622987f832a19c7",
            "21ecf16ec00d428a995c60cef05a4bed",
            "33d90be0992e497a9d9ff5e4073a1d73",
            "63c48f44aa6b4b81af158c3d9f56c6ba",
            "c71347b8a03a4558a788716209f791de",
            "d5bff56ec84d46aeb9a3bcdaf21ea525",
            "153b3ad5ff0047d7829f8e569fa67b44",
            "8822f8e9f9394dea82cfe96b61fdc619",
            "fbec8587644f48ed8fd8b5b6536a6342",
            "0c497ad413a24a8a9cc5047317f5e04b",
            "762058c9350345578a95458e18cc0f09",
            "e8262225f83245d2935fef3d1e57743c",
            "064d16a880664d0c90868574030ea85d",
            "e950e3c8a8294dc285e0f46ffc2d6922",
            "552dbf36c7f845ec8860296ae1543a5a",
            "937da326e8ba4400918c471e90c9258e",
            "4ea73cb84abd4d208a6a5877d9ca6e13",
            "9517170aa0bd47d59ff133b30b798ed3",
            "aa9c328388a54de484d02d06083a6967",
            "1c45dbf0d5bc41c5844a4708b41a2819",
            "b058192abf0b45fc9672eb895892868e",
            "25eae9c6b3c64df1b08720fd54e76217",
            "92aa239d03d84f15b563714daa8d4354",
            "26416b41050344248ccba97dd339a9c6",
            "e84c72f03b8245e0ac3fcfb94c751982",
            "80d5f1fa30dc491f9b75ff0c1eebe575",
            "966b456c8f70404882b1c68f3f66bab6",
            "d7c5f81414634fa7806282b8e16ca1d7",
            "6f235076752f49ac9d754bda92f7dbf1",
            "b3446ab174fa404ca4aa23175b8a71e9",
            "97895207a4a2452ea15bb4fb7218297e"
          ]
        },
        "outputId": "d9e6207e-c22d-4fda-b309-4246265e15e2"
      },
      "source": [
        "transform = torchvision.transforms.Compose([\n",
        "                  torchvision.transforms.ToTensor(),\n",
        "                  torchvision.transforms.Normalize((0.5,),(0.5,))\n",
        "])\n",
        "dataset = torchvision.datasets.MNIST('data',train=True,download=True,transform=transform)\n",
        "\n",
        "datasetBatch = torch.utils.data.DataLoader(dataset,64,shuffle=True)\n",
        "dataiter = iter(datasetBatch)"
      ],
      "execution_count": null,
      "outputs": [
        {
          "output_type": "stream",
          "text": [
            "Downloading http://yann.lecun.com/exdb/mnist/train-images-idx3-ubyte.gz to data/MNIST/raw/train-images-idx3-ubyte.gz\n"
          ],
          "name": "stdout"
        },
        {
          "output_type": "display_data",
          "data": {
            "application/vnd.jupyter.widget-view+json": {
              "model_id": "1fe9f3c98ccf4a3da9272c7b178021fa",
              "version_minor": 0,
              "version_major": 2
            },
            "text/plain": [
              "HBox(children=(FloatProgress(value=1.0, bar_style='info', max=1.0), HTML(value='')))"
            ]
          },
          "metadata": {
            "tags": []
          }
        },
        {
          "output_type": "stream",
          "text": [
            "Extracting data/MNIST/raw/train-images-idx3-ubyte.gz to data/MNIST/raw\n",
            "Downloading http://yann.lecun.com/exdb/mnist/train-labels-idx1-ubyte.gz to data/MNIST/raw/train-labels-idx1-ubyte.gz\n"
          ],
          "name": "stdout"
        },
        {
          "output_type": "display_data",
          "data": {
            "application/vnd.jupyter.widget-view+json": {
              "model_id": "8822f8e9f9394dea82cfe96b61fdc619",
              "version_minor": 0,
              "version_major": 2
            },
            "text/plain": [
              "HBox(children=(FloatProgress(value=1.0, bar_style='info', max=1.0), HTML(value='')))"
            ]
          },
          "metadata": {
            "tags": []
          }
        },
        {
          "output_type": "stream",
          "text": [
            "Extracting data/MNIST/raw/train-labels-idx1-ubyte.gz to data/MNIST/raw\n",
            "Downloading http://yann.lecun.com/exdb/mnist/t10k-images-idx3-ubyte.gz to data/MNIST/raw/t10k-images-idx3-ubyte.gz\n"
          ],
          "name": "stdout"
        },
        {
          "output_type": "display_data",
          "data": {
            "application/vnd.jupyter.widget-view+json": {
              "model_id": "937da326e8ba4400918c471e90c9258e",
              "version_minor": 0,
              "version_major": 2
            },
            "text/plain": [
              "HBox(children=(FloatProgress(value=1.0, bar_style='info', max=1.0), HTML(value='')))"
            ]
          },
          "metadata": {
            "tags": []
          }
        },
        {
          "output_type": "stream",
          "text": [
            "Extracting data/MNIST/raw/t10k-images-idx3-ubyte.gz to data/MNIST/raw\n",
            "Downloading http://yann.lecun.com/exdb/mnist/t10k-labels-idx1-ubyte.gz to data/MNIST/raw/t10k-labels-idx1-ubyte.gz\n",
            "\n",
            "\n"
          ],
          "name": "stdout"
        },
        {
          "output_type": "display_data",
          "data": {
            "application/vnd.jupyter.widget-view+json": {
              "model_id": "26416b41050344248ccba97dd339a9c6",
              "version_minor": 0,
              "version_major": 2
            },
            "text/plain": [
              "HBox(children=(FloatProgress(value=1.0, bar_style='info', max=1.0), HTML(value='')))"
            ]
          },
          "metadata": {
            "tags": []
          }
        },
        {
          "output_type": "stream",
          "text": [
            "Extracting data/MNIST/raw/t10k-labels-idx1-ubyte.gz to data/MNIST/raw\n",
            "Processing...\n",
            "Done!\n"
          ],
          "name": "stdout"
        },
        {
          "output_type": "stream",
          "text": [
            "/pytorch/torch/csrc/utils/tensor_numpy.cpp:141: UserWarning: The given NumPy array is not writeable, and PyTorch does not support non-writeable tensors. This means you can write to the underlying (supposedly non-writeable) NumPy array using the tensor. You may want to copy the array to protect its data or make it writeable before converting it to a tensor. This type of warning will be suppressed for the rest of this program.\n"
          ],
          "name": "stderr"
        }
      ]
    },
    {
      "cell_type": "code",
      "metadata": {
        "id": "Xvw66h7M7R74",
        "colab_type": "code",
        "colab": {
          "base_uri": "https://localhost:8080/",
          "height": 88
        },
        "outputId": "7efbccbe-5223-48ca-fb6a-73d53319f767"
      },
      "source": [
        "img, _ = dataiter.next()\n",
        "\n",
        "o = discriminatorM(img)\n",
        "print(o[0])\n",
        "n = 0"
      ],
      "execution_count": null,
      "outputs": [
        {
          "output_type": "stream",
          "text": [
            "tensor([0.5070], grad_fn=<SelectBackward>)\n"
          ],
          "name": "stdout"
        },
        {
          "output_type": "stream",
          "text": [
            "/usr/local/lib/python3.6/dist-packages/torch/nn/functional.py:1569: UserWarning: nn.functional.sigmoid is deprecated. Use torch.sigmoid instead.\n",
            "  warnings.warn(\"nn.functional.sigmoid is deprecated. Use torch.sigmoid instead.\")\n"
          ],
          "name": "stderr"
        }
      ]
    },
    {
      "cell_type": "code",
      "metadata": {
        "id": "W6C4WJSP7dVa",
        "colab_type": "code",
        "colab": {
          "base_uri": "https://localhost:8080/",
          "height": 34
        },
        "outputId": "6fe37a60-f9db-4dec-bc4c-41b8f039e4ab"
      },
      "source": [
        "n = n+1\n",
        "print(o[n])"
      ],
      "execution_count": null,
      "outputs": [
        {
          "output_type": "stream",
          "text": [
            "tensor([0.5116], grad_fn=<SelectBackward>)\n"
          ],
          "name": "stdout"
        }
      ]
    },
    {
      "cell_type": "code",
      "metadata": {
        "id": "xFC6eOGDzCqO",
        "colab_type": "code",
        "colab": {}
      },
      "source": [
        "generatorM.to(\"cuda\")\n",
        "discriminatorM.to(\"cuda\")\n",
        "def training():\n",
        "  epoch = 5\n",
        "  plossd = 0\n",
        "  plossg = 0\n",
        "\n",
        "  for e in range(epoch):\n",
        "    for img2,label in datasetBatch:\n",
        "      img = img2.to(\"cuda\")\n",
        "      # img = img2\n",
        "      r_output = discriminatorM(img)\n",
        "      # print(r_output)\n",
        "\n",
        "      g_input = torch.randn(64,1,10,10).to(\"cuda\")\n",
        "\n",
        "      f_img = generatorM(g_input) \n",
        "\n",
        "      f_output = discriminatorM(f_img)\n",
        "      # print(f_output)\n",
        "\n",
        "      optD.zero_grad()\n",
        "      # print(r_output)\n",
        "      dloss = totalLossD(r_output,f_output)\n",
        "      # print(dloss)\n",
        "      dloss.backward()\n",
        "      optD.step()\n",
        "      # print(\"Discriminator\")\n",
        "      optG.zero_grad()\n",
        "      g2_input = torch.randn(64,1,10,10).to(\"cuda\")\n",
        "      f2_img = generatorM(g2_input)\n",
        "      f2_output = discriminatorM(f2_img)\n",
        "      gloss = totalLossG(f2_output)\n",
        "      # print(gloss)\n",
        "      gloss.backward()\n",
        "      optG.step()\n",
        "        # print(\"Generator\")\n",
        "    plossg = plossg+gloss.item()\n",
        "    plossd = plossd+dloss.item()\n",
        "    print(\"Generator: \"+ str(plossg))\n",
        "    print(\"Discriminator: \"+ str(plossd))\n",
        "    plossd = 0\n",
        "    plossg = 0\n"
      ],
      "execution_count": null,
      "outputs": []
    },
    {
      "cell_type": "code",
      "metadata": {
        "id": "nNMIF5QHRmdG",
        "colab_type": "code",
        "colab": {
          "base_uri": "https://localhost:8080/",
          "height": 241
        },
        "outputId": "aa2c8b0a-8e1a-40c5-909b-d474817209ca"
      },
      "source": [
        "training()"
      ],
      "execution_count": null,
      "outputs": [
        {
          "output_type": "stream",
          "text": [
            "/usr/local/lib/python3.6/dist-packages/torch/nn/functional.py:1569: UserWarning: nn.functional.sigmoid is deprecated. Use torch.sigmoid instead.\n",
            "  warnings.warn(\"nn.functional.sigmoid is deprecated. Use torch.sigmoid instead.\")\n"
          ],
          "name": "stderr"
        },
        {
          "output_type": "stream",
          "text": [
            "Generator: 0.6931471824645996\n",
            "Discriminator: 1.0064088106155396\n",
            "Generator: 0.6931471824645996\n",
            "Discriminator: 1.0064088106155396\n",
            "Generator: 0.6931471824645996\n",
            "Discriminator: 1.0064088106155396\n",
            "Generator: 0.6931471824645996\n",
            "Discriminator: 1.0064088106155396\n",
            "Generator: 0.6931471824645996\n",
            "Discriminator: 1.0064088106155396\n"
          ],
          "name": "stdout"
        }
      ]
    },
    {
      "cell_type": "code",
      "metadata": {
        "id": "DYoVt9QiKWjP",
        "colab_type": "code",
        "colab": {}
      },
      "source": [
        "input = torch.randn(64,1,10,10).to(\"cuda\")\n",
        "img = generatorM(input)\n",
        "\n",
        "\n"
      ],
      "execution_count": null,
      "outputs": []
    },
    {
      "cell_type": "code",
      "metadata": {
        "id": "LPxVj66FsQ3K",
        "colab_type": "code",
        "colab": {
          "base_uri": "https://localhost:8080/",
          "height": 265
        },
        "outputId": "f1dc097b-2a66-46a9-beb7-3ef28c7a7038"
      },
      "source": [
        "img = img.view(64,28,28).to(\"cpu\")\n",
        "\n",
        "plt.imshow(img[4].detach().numpy(),cmap='gray')\n",
        "n=0"
      ],
      "execution_count": null,
      "outputs": [
        {
          "output_type": "display_data",
          "data": {
            "image/png": "[encoded data removed]",
            "text/plain": [
              "<Figure size 432x288 with 1 Axes>"
            ]
          },
          "metadata": {
            "tags": [],
            "needs_background": "light"
          }
        }
      ]
    },
    {
      "cell_type": "code",
      "metadata": {
        "id": "h9X8tU5Q19Jr",
        "colab_type": "code",
        "colab": {
          "base_uri": "https://localhost:8080/",
          "height": 282
        },
        "outputId": "10cd44bb-15fb-4af5-9818-0ce9243fb142"
      },
      "source": [
        "n = n+1\n",
        "plt.imshow(img[n].detach().numpy(),cmap='gray')"
      ],
      "execution_count": null,
      "outputs": [
        {
          "output_type": "execute_result",
          "data": {
            "text/plain": [
              "<matplotlib.image.AxesImage at 0x7fb9f1321b38>"
            ]
          },
          "metadata": {
            "tags": []
          },
          "execution_count": 57
        },
        {
          "output_type": "display_data",
          "data": {
            "image/png": "[encoded data removed]",
            "text/plain": [
              "<Figure size 432x288 with 1 Axes>"
            ]
          },
          "metadata": {
            "tags": [],
            "needs_background": "light"
          }
        }
      ]
    }
  ]
}