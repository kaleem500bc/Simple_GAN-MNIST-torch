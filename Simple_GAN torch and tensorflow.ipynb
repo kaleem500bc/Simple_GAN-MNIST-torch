{
  "nbformat": 4,
  "nbformat_minor": 0,
  "metadata": {
    "colab": {
      "name": "Simple GAN.ipynb",
      "provenance": [],
      "collapsed_sections": [],
      "authorship_tag": "ABX9TyOZqg4t38XZNtCMvG/hfuNW",
      "include_colab_link": true
    },
    "kernelspec": {
      "name": "python3",
      "display_name": "Python 3"
    },
    "accelerator": "GPU"
  },
  "cells": [
    {
      "cell_type": "markdown",
      "metadata": {
        "id": "view-in-github",
        "colab_type": "text"
      },
      "source": [
        "<a href=\"https://colab.research.google.com/github/kaleem500bc/Simple_GAN-MNIST-torch-and-tensorflow/blob/master/Simple_GAN%20torch%20and%20tensorflow.ipynb\" target=\"_parent\"><img src=\"https://colab.research.google.com/assets/colab-badge.svg\" alt=\"Open In Colab\"/></a>"
      ]
    },
    {
      "cell_type": "markdown",
      "metadata": {
        "id": "Fi9O94pns2ZZ",
        "colab_type": "text"
      },
      "source": [
        ""
      ]
    },
    {
      "cell_type": "markdown",
      "metadata": {
        "id": "nv6RMesW1O9V",
        "colab_type": "text"
      },
      "source": [
        "Implement GAN with Tensorflow"
      ]
    },
    {
      "cell_type": "code",
      "metadata": {
        "id": "MS10dTpy1aG0",
        "colab_type": "code",
        "colab": {}
      },
      "source": [
        "!pip install -q imageio"
      ],
      "execution_count": null,
      "outputs": []
    },
    {
      "cell_type": "code",
      "metadata": {
        "id": "Kj_heavM1N4K",
        "colab_type": "code",
        "colab": {
          "base_uri": "https://localhost:8080/",
          "height": 51
        },
        "outputId": "1b91e18e-7ceb-4260-9d43-efd5158e3433"
      },
      "source": [
        "import tensorflow as tf\n",
        "\n",
        "import glob\n",
        "import imageio\n",
        "import matplotlib.pyplot as plt\n",
        "import numpy as np\n",
        "import os\n",
        "import PIL\n",
        "from tensorflow.keras import layers\n",
        "import time\n",
        "from IPython import display\n",
        "%load_ext tensorboard"
      ],
      "execution_count": null,
      "outputs": [
        {
          "output_type": "stream",
          "text": [
            "The tensorboard extension is already loaded. To reload it, use:\n",
            "  %reload_ext tensorboard\n"
          ],
          "name": "stdout"
        }
      ]
    },
    {
      "cell_type": "code",
      "metadata": {
        "id": "O3vD0PMw1tgq",
        "colab_type": "code",
        "colab": {}
      },
      "source": [
        "(train_dataset,train_labels), (_,_) = tf.keras.datasets.mnist.load_data()\n",
        "\n",
        "train_dataset_reshape = train_dataset.reshape(train_dataset.shape[0],28,28,1).astype('float32')\n",
        "\n",
        "train_dataset_normalize = (train_dataset-127.5)/127.5 #range [-1,1]"
      ],
      "execution_count": null,
      "outputs": []
    },
    {
      "cell_type": "code",
      "metadata": {
        "id": "MJ3lGeXX2jrC",
        "colab_type": "code",
        "colab": {}
      },
      "source": [
        "\n",
        "train_dataset_shuffled_batched = tf.data.Dataset.from_tensor_slices(train_dataset_normalize).shuffle(60000).batch(256)\n"
      ],
      "execution_count": null,
      "outputs": []
    },
    {
      "cell_type": "code",
      "metadata": {
        "id": "CTvrTI-c4PJz",
        "colab_type": "code",
        "colab": {}
      },
      "source": [
        "#Generator\n",
        "\n",
        "def netG():\n",
        "  model = tf.keras.Sequential()\n",
        "  model.add(layers.Dense(7*7*256,input_shape= (100,)))\n",
        "  model.add(layers.BatchNormalization())\n",
        "  model.add(layers.LeakyReLU())\n",
        "  model.add(layers.Reshape((7,7,256)))\n",
        "\n",
        "  model.add(layers.Conv2DTranspose(128,(5,5),strides=(1,1), padding = 'same'))\n",
        "  model.add(layers.BatchNormalization())\n",
        "  model.add(layers.LeakyReLU())\n",
        "\n",
        "  model.add(layers.Conv2DTranspose(64,(5,5),strides=(2,2),padding='same'))\n",
        "  model.add(layers.BatchNormalization())\n",
        "  model.add(layers.LeakyReLU())\n",
        "\n",
        "  model.add(layers.Conv2DTranspose(1,(5,5),strides=(2,2),padding='same'))\n",
        "  return model\n",
        "\n",
        "\n",
        "\n"
      ],
      "execution_count": null,
      "outputs": []
    },
    {
      "cell_type": "code",
      "metadata": {
        "id": "SJzeHQaK7tIZ",
        "colab_type": "code",
        "colab": {
          "base_uri": "https://localhost:8080/",
          "height": 282
        },
        "outputId": "332fbc8e-c42e-47df-96d7-9b06a910637a"
      },
      "source": [
        "g_Model = netG()\n",
        "\n",
        "noise = tf.random.normal([1,100])\n",
        "\n",
        "generated_image = g_Model(noise, training=False)\n",
        "plt.imshow(generated_image[0,:,:,0],cmap='gray')\n"
      ],
      "execution_count": null,
      "outputs": [
        {
          "output_type": "execute_result",
          "data": {
            "text/plain": [
              "<matplotlib.image.AxesImage at 0x7f31744207b8>"
            ]
          },
          "metadata": {
            "tags": []
          },
          "execution_count": 30
        },
        {
          "output_type": "display_data",
          "data": {
            "image/png": "[encoded data removed]",
            "text/plain": [
              "<Figure size 432x288 with 1 Axes>"
            ]
          },
          "metadata": {
            "tags": [],
            "needs_background": "light"
          }
        }
      ]
    },
    {
      "cell_type": "code",
      "metadata": {
        "id": "ufc5tliR_K_m",
        "colab_type": "code",
        "colab": {}
      },
      "source": [
        "#Discriminator\n",
        "\n",
        "def netD():\n",
        "  model = tf.keras.Sequential()\n",
        "  model.add(layers.Conv2D(64,(5,5),strides=(2,2), padding='same', input_shape= [28,28,1]))\n",
        "\n",
        "  model.add(layers.LeakyReLU())\n",
        "  model.add(layers.Dropout(0.3))\n",
        "\n",
        "  model.add(layers.Conv2D(128,(5,5),strides=(2,2), padding='same'))\n",
        "  model.add(layers.LeakyReLU())\n",
        "  model.add(layers.Dropout(0.3))\n",
        "\n",
        "  model.add(layers.Flatten())\n",
        "  model.add(layers.Dense(1))\n",
        "  return model\n",
        "\n",
        "d_Model = netD()"
      ],
      "execution_count": null,
      "outputs": []
    },
    {
      "cell_type": "code",
      "metadata": {
        "id": "Jx6-Qn-JAXGD",
        "colab_type": "code",
        "colab": {}
      },
      "source": [
        "\n",
        "criterion = tf.keras.losses.BinaryCrossentropy(from_logits=True)"
      ],
      "execution_count": null,
      "outputs": []
    },
    {
      "cell_type": "code",
      "metadata": {
        "id": "CN4F-MJ0Asa0",
        "colab_type": "code",
        "colab": {}
      },
      "source": [
        "#discriminator loss\n",
        "\n",
        "def d_loss(r_output, f_output):\n",
        "  r_loss = criterion(tf.ones_like(r_output), r_output)\n",
        "  f_loss = criterion(tf.zeros_like(f_output),f_output)\n",
        "  total_loss = r_loss+f_loss\n",
        "  return total_loss\n"
      ],
      "execution_count": null,
      "outputs": []
    },
    {
      "cell_type": "code",
      "metadata": {
        "id": "qRtH31DbBQM0",
        "colab_type": "code",
        "colab": {}
      },
      "source": [
        "#generator loss\n",
        "\n",
        "def g_loss(f_output):\n",
        "  loss = criterion(tf.ones_like(f_output), f_output)\n",
        "  return loss\n",
        "  "
      ],
      "execution_count": null,
      "outputs": []
    },
    {
      "cell_type": "code",
      "metadata": {
        "id": "hYQvpNqrBgyN",
        "colab_type": "code",
        "colab": {}
      },
      "source": [
        "g_optimizer = tf.keras.optimizers.Adam(1e-4)\n",
        "d_optimizer = tf.keras.optimizers.Adam(1e-4)\n",
        "\n"
      ],
      "execution_count": null,
      "outputs": []
    },
    {
      "cell_type": "code",
      "metadata": {
        "id": "AUjMpIaDBw19",
        "colab_type": "code",
        "colab": {}
      },
      "source": [
        "#training\n",
        "\n",
        "epochs = 50\n",
        "noise_dim = 100\n",
        "num_examples = 16\n",
        "seed = tf.random.normal([num_examples, noise_dim])\n"
      ],
      "execution_count": null,
      "outputs": []
    },
    {
      "cell_type": "code",
      "metadata": {
        "id": "wikraCEuCMs3",
        "colab_type": "code",
        "colab": {}
      },
      "source": [
        "\n",
        "def training_step(images):\n",
        "  noise = tf.random.normal([256,noise_dim])\n",
        "  with tf.GradientTape() as g_tape, tf.GradientTape() as d_tape:\n",
        "    g_images = g_Model(noise, training=True)\n",
        "\n",
        "    r_output =  d_Model(images, training=True)\n",
        "    f_output = d_Model(g_images,training=True)\n",
        "\n",
        "    generator_loss = g_loss(f_output)\n",
        "    disc_loss = d_loss(r_output,f_output)\n",
        "  \n",
        "  gradients_generator = g_tape.gradient(generator_loss, g_Model.trainable_variables)\n",
        "  g_optimizer.apply_gradients(zip(gradients_generator,g_Model.trainable_variables))\n",
        "\n",
        "  gradients_disc = d_tape.gradient(disc_loss, d_Model.trainable_variables)\n",
        "  d_optimizer.apply_gradients(zip(gradients_disc, d_Model.trainable_variables))\n",
        "\n",
        "\n"
      ],
      "execution_count": null,
      "outputs": []
    },
    {
      "cell_type": "code",
      "metadata": {
        "id": "-os8kN-idj9I",
        "colab_type": "code",
        "colab": {}
      },
      "source": [
        "def train(dataset, epochs):\n",
        "  for epoch in range(epochs):\n",
        "    for image_batch in dataset:\n",
        "    #   print(image_batch.shape)\n",
        "    #   break\n",
        "    # break\n",
        "      training_step(image_batch)\n",
        "    \n",
        "    display.clear_output(wait=True)\n",
        "    generate_and_save_images(g_Model, epoch+1,seed)\n",
        "  \n",
        "  display.clear_output(wait=True)\n",
        "  generate_and_save_images(g_Model,epochs,seed)"
      ],
      "execution_count": null,
      "outputs": []
    },
    {
      "cell_type": "code",
      "metadata": {
        "id": "HIDl0-B8gqvc",
        "colab_type": "code",
        "colab": {
          "base_uri": "https://localhost:8080/",
          "height": 85
        },
        "outputId": "1de0b2f3-c7b6-4d88-fa67-d25564ad3e31"
      },
      "source": [
        "for i in train_dataset_shuffled_batched:\n",
        "  print(i.shape\n",
        "  break"
      ],
      "execution_count": null,
      "outputs": [
        {
          "output_type": "stream",
          "text": [
            "(256, 28, 28)\n",
            "tf.Tensor(\n",
            "[-1. -1. -1. -1. -1. -1. -1. -1. -1. -1. -1. -1. -1. -1. -1. -1. -1. -1.\n",
            " -1. -1. -1. -1. -1. -1. -1. -1. -1. -1.], shape=(28,), dtype=float64)\n"
          ],
          "name": "stdout"
        }
      ]
    },
    {
      "cell_type": "code",
      "metadata": {
        "id": "0E-1gYPJeATV",
        "colab_type": "code",
        "colab": {}
      },
      "source": [
        "def generate_and_save_images(model, epoch, test_input):\n",
        "  # Notice `training` is set to False.\n",
        "  # This is so all layers run in inference mode (batchnorm).\n",
        "  predictions = model(test_input, training=False)\n",
        "\n",
        "  fig = plt.figure(figsize=(4,4))\n",
        "\n",
        "  for i in range(predictions.shape[0]):\n",
        "      plt.subplot(4, 4, i+1)\n",
        "      plt.imshow(predictions[i, :, :, 0] * 127.5 + 127.5, cmap='gray')\n",
        "      plt.axis('off')\n",
        "\n",
        "  plt.savefig('image_at_epoch_{:04d}.png'.format(epoch))\n",
        "  plt.show()"
      ],
      "execution_count": null,
      "outputs": []
    },
    {
      "cell_type": "code",
      "metadata": {
        "id": "vXiac3jtesrv",
        "colab_type": "code",
        "colab": {
          "base_uri": "https://localhost:8080/",
          "height": 248
        },
        "outputId": "6dea5cd6-cc82-4d4c-be9f-19733f5cb2e8"
      },
      "source": [
        "train(train_dataset_shuffled_batched, 50)"
      ],
      "execution_count": null,
      "outputs": [
        {
          "output_type": "display_data",
          "data": {
            "image/png": "[encoded data removed]",
            "text/plain": [
              "<Figure size 288x288 with 16 Axes>"
            ]
          },
          "metadata": {
            "tags": [],
            "needs_background": "light"
          }
        }
      ]
    },
    {
      "cell_type": "code",
      "metadata": {
        "id": "3c9NevdMpRJ5",
        "colab_type": "code",
        "colab": {
          "base_uri": "https://localhost:8080/",
          "height": 282
        },
        "outputId": "2a5cfd76-5bf1-4258-9189-2ca38139a33e"
      },
      "source": [
        "noise = tf.random.normal([1,100])\n",
        "\n",
        "generated_image = g_Model(noise, training=False)\n",
        "plt.imshow(generated_image[0,:,:,0],cmap='gray')"
      ],
      "execution_count": null,
      "outputs": [
        {
          "output_type": "execute_result",
          "data": {
            "text/plain": [
              "<matplotlib.image.AxesImage at 0x7f8643918b38>"
            ]
          },
          "metadata": {
            "tags": []
          },
          "execution_count": 95
        },
        {
          "output_type": "display_data",
          "data": {
            "image/png": "[encoded data removed]",
            "text/plain": [
              "<Figure size 432x288 with 1 Axes>"
            ]
          },
          "metadata": {
            "tags": [],
            "needs_background": "light"
          }
        }
      ]
    },
    {
      "cell_type": "code",
      "metadata": {
        "id": "IXVNT-nSrmoO",
        "colab_type": "code",
        "colab": {
          "base_uri": "https://localhost:8080/",
          "height": 34
        },
        "outputId": "c2fe9b2a-8e2b-45dd-b45f-98b3d658c808"
      },
      "source": [
        "tensorboard_callback = tf.keras.callbacks.TensorBoard()"
      ],
      "execution_count": null,
      "outputs": [
        {
          "output_type": "execute_result",
          "data": {
            "text/plain": [
              "<tensorflow.python.keras.engine.sequential.Sequential at 0x7f87299af3c8>"
            ]
          },
          "metadata": {
            "tags": []
          },
          "execution_count": 87
        }
      ]
    },
    {
      "cell_type": "code",
      "metadata": {
        "id": "s2eUxv0cs6oh",
        "colab_type": "code",
        "colab": {}
      },
      "source": [
        "%tensorboard --logdir logs"
      ],
      "execution_count": null,
      "outputs": []
    },
    {
      "cell_type": "markdown",
      "metadata": {
        "id": "x9E4ZiFCZFQn",
        "colab_type": "text"
      },
      "source": [
        "Pytorch GAN"
      ]
    },
    {
      "cell_type": "code",
      "metadata": {
        "id": "gQhLdzLa8zX8",
        "colab_type": "code",
        "colab": {
          "base_uri": "https://localhost:8080/",
          "height": 853
        },
        "outputId": "7e486505-e8f4-45a6-c358-b8a0c107258b"
      },
      "source": [
        "!pip install torchvision\n",
        "!pip install torch\n",
        "!pip install torchviz\n",
        "!pip install tensorboard\n",
        "\n",
        "%load_ext tensorboard"
      ],
      "execution_count": null,
      "outputs": [
        {
          "output_type": "stream",
          "text": [
            "Requirement already satisfied: torchvision in /usr/local/lib/python3.6/dist-packages (0.6.1+cu101)\n",
            "Requirement already satisfied: torch==1.5.1 in /usr/local/lib/python3.6/dist-packages (from torchvision) (1.5.1+cu101)\n",
            "Requirement already satisfied: numpy in /usr/local/lib/python3.6/dist-packages (from torchvision) (1.18.5)\n",
            "Requirement already satisfied: pillow>=4.1.1 in /usr/local/lib/python3.6/dist-packages (from torchvision) (7.0.0)\n",
            "Requirement already satisfied: future in /usr/local/lib/python3.6/dist-packages (from torch==1.5.1->torchvision) (0.16.0)\n",
            "Requirement already satisfied: torch in /usr/local/lib/python3.6/dist-packages (1.5.1+cu101)\n",
            "Requirement already satisfied: future in /usr/local/lib/python3.6/dist-packages (from torch) (0.16.0)\n",
            "Requirement already satisfied: numpy in /usr/local/lib/python3.6/dist-packages (from torch) (1.18.5)\n",
            "Collecting torchviz\n",
            "\u001b[?25l  Downloading https://files.pythonhosted.org/packages/8f/8e/a9630c7786b846d08b47714dd363a051f5e37b4ea0e534460d8cdfc1644b/torchviz-0.0.1.tar.gz (41kB)\n",
            "\u001b[K     |████████████████████████████████| 51kB 2.2MB/s \n",
            "\u001b[?25hRequirement already satisfied: torch in /usr/local/lib/python3.6/dist-packages (from torchviz) (1.5.1+cu101)\n",
            "Requirement already satisfied: graphviz in /usr/local/lib/python3.6/dist-packages (from torchviz) (0.10.1)\n",
            "Requirement already satisfied: numpy in /usr/local/lib/python3.6/dist-packages (from torch->torchviz) (1.18.5)\n",
            "Requirement already satisfied: future in /usr/local/lib/python3.6/dist-packages (from torch->torchviz) (0.16.0)\n",
            "Building wheels for collected packages: torchviz\n",
            "  Building wheel for torchviz (setup.py) ... \u001b[?25l\u001b[?25hdone\n",
            "  Created wheel for torchviz: filename=torchviz-0.0.1-cp36-none-any.whl size=3523 sha256=2850c019c091215df96e2e0d833935f60e3a9f18a9d617d6d5d237268924cba1\n",
            "  Stored in directory: /root/.cache/pip/wheels/2a/c2/c5/b8b4d0f7992c735f6db5bfa3c5f354cf36502037ca2b585667\n",
            "Successfully built torchviz\n",
            "Installing collected packages: torchviz\n",
            "Successfully installed torchviz-0.0.1\n",
            "Requirement already satisfied: tensorboard in /usr/local/lib/python3.6/dist-packages (2.2.2)\n",
            "Requirement already satisfied: werkzeug>=0.11.15 in /usr/local/lib/python3.6/dist-packages (from tensorboard) (1.0.1)\n",
            "Requirement already satisfied: numpy>=1.12.0 in /usr/local/lib/python3.6/dist-packages (from tensorboard) (1.18.5)\n",
            "Requirement already satisfied: protobuf>=3.6.0 in /usr/local/lib/python3.6/dist-packages (from tensorboard) (3.12.2)\n",
            "Requirement already satisfied: google-auth-oauthlib<0.5,>=0.4.1 in /usr/local/lib/python3.6/dist-packages (from tensorboard) (0.4.1)\n",
            "Requirement already satisfied: google-auth<2,>=1.6.3 in /usr/local/lib/python3.6/dist-packages (from tensorboard) (1.17.2)\n",
            "Requirement already satisfied: six>=1.10.0 in /usr/local/lib/python3.6/dist-packages (from tensorboard) (1.12.0)\n",
            "Requirement already satisfied: wheel>=0.26; python_version >= \"3\" in /usr/local/lib/python3.6/dist-packages (from tensorboard) (0.34.2)\n",
            "Requirement already satisfied: absl-py>=0.4 in /usr/local/lib/python3.6/dist-packages (from tensorboard) (0.9.0)\n",
            "Requirement already satisfied: setuptools>=41.0.0 in /usr/local/lib/python3.6/dist-packages (from tensorboard) (49.1.0)\n",
            "Requirement already satisfied: grpcio>=1.24.3 in /usr/local/lib/python3.6/dist-packages (from tensorboard) (1.30.0)\n",
            "Requirement already satisfied: requests<3,>=2.21.0 in /usr/local/lib/python3.6/dist-packages (from tensorboard) (2.23.0)\n",
            "Requirement already satisfied: markdown>=2.6.8 in /usr/local/lib/python3.6/dist-packages (from tensorboard) (3.2.2)\n",
            "Requirement already satisfied: tensorboard-plugin-wit>=1.6.0 in /usr/local/lib/python3.6/dist-packages (from tensorboard) (1.7.0)\n",
            "Requirement already satisfied: requests-oauthlib>=0.7.0 in /usr/local/lib/python3.6/dist-packages (from google-auth-oauthlib<0.5,>=0.4.1->tensorboard) (1.3.0)\n",
            "Requirement already satisfied: cachetools<5.0,>=2.0.0 in /usr/local/lib/python3.6/dist-packages (from google-auth<2,>=1.6.3->tensorboard) (4.1.1)\n",
            "Requirement already satisfied: pyasn1-modules>=0.2.1 in /usr/local/lib/python3.6/dist-packages (from google-auth<2,>=1.6.3->tensorboard) (0.2.8)\n",
            "Requirement already satisfied: rsa<5,>=3.1.4; python_version >= \"3\" in /usr/local/lib/python3.6/dist-packages (from google-auth<2,>=1.6.3->tensorboard) (4.6)\n",
            "Requirement already satisfied: chardet<4,>=3.0.2 in /usr/local/lib/python3.6/dist-packages (from requests<3,>=2.21.0->tensorboard) (3.0.4)\n",
            "Requirement already satisfied: idna<3,>=2.5 in /usr/local/lib/python3.6/dist-packages (from requests<3,>=2.21.0->tensorboard) (2.10)\n",
            "Requirement already satisfied: urllib3!=1.25.0,!=1.25.1,<1.26,>=1.21.1 in /usr/local/lib/python3.6/dist-packages (from requests<3,>=2.21.0->tensorboard) (1.24.3)\n",
            "Requirement already satisfied: certifi>=2017.4.17 in /usr/local/lib/python3.6/dist-packages (from requests<3,>=2.21.0->tensorboard) (2020.6.20)\n",
            "Requirement already satisfied: importlib-metadata; python_version < \"3.8\" in /usr/local/lib/python3.6/dist-packages (from markdown>=2.6.8->tensorboard) (1.7.0)\n",
            "Requirement already satisfied: oauthlib>=3.0.0 in /usr/local/lib/python3.6/dist-packages (from requests-oauthlib>=0.7.0->google-auth-oauthlib<0.5,>=0.4.1->tensorboard) (3.1.0)\n",
            "Requirement already satisfied: pyasn1<0.5.0,>=0.4.6 in /usr/local/lib/python3.6/dist-packages (from pyasn1-modules>=0.2.1->google-auth<2,>=1.6.3->tensorboard) (0.4.8)\n",
            "Requirement already satisfied: zipp>=0.5 in /usr/local/lib/python3.6/dist-packages (from importlib-metadata; python_version < \"3.8\"->markdown>=2.6.8->tensorboard) (3.1.0)\n"
          ],
          "name": "stdout"
        }
      ]
    },
    {
      "cell_type": "code",
      "metadata": {
        "id": "_gCvMdKLZEww",
        "colab_type": "code",
        "colab": {}
      },
      "source": [
        "import torch\n",
        "from torch import nn\n",
        "from torch.nn import functional as F\n",
        "import matplotlib.pyplot as plt\n",
        "import torchvision\n",
        "from torchvision import datasets\n"
      ],
      "execution_count": 2,
      "outputs": []
    },
    {
      "cell_type": "code",
      "metadata": {
        "id": "-KRomv_IZ2iv",
        "colab_type": "code",
        "colab": {}
      },
      "source": [
        "\n",
        "\n",
        "class netG(nn.Module):\n",
        "  def __init__(self):\n",
        "    super().__init__()\n",
        "    self.f = nn.Linear(100,484)\n",
        "    self.c1 = nn.ConvTranspose2d(1,256,3)\n",
        "    self.c2 = nn.ConvTranspose2d(256,64,3)\n",
        "    self.c5 = nn.ConvTranspose2d(64,1,3)\n",
        "  def forward(self,x):\n",
        "    x = self.f(x)\n",
        "    x = x.view(x.shape[0],1,22,22)\n",
        "    x = F.leaky_relu(self.c1(x))\n",
        "    x = F.leaky_relu(self.c2(x))\n",
        "    x = torch.tanh(self.c5(x))\n",
        "    return x\n",
        "\n",
        "generatorM = netG()\n",
        "\n"
      ],
      "execution_count": 4,
      "outputs": []
    },
    {
      "cell_type": "code",
      "metadata": {
        "id": "5072FwD74KGe",
        "colab_type": "code",
        "colab": {
          "base_uri": "https://localhost:8080/",
          "height": 34
        },
        "outputId": "7b47726c-2bc1-4e84-891b-b4c941b83fbc"
      },
      "source": [
        "# img, _ = dataiter.next()\n",
        "g_input = torch.randn(64,100)\n",
        "o = generatorM(g_input)\n",
        "# print(img.shape)\n",
        "print(o.shape)"
      ],
      "execution_count": 5,
      "outputs": [
        {
          "output_type": "stream",
          "text": [
            "torch.Size([64, 1, 28, 28])\n"
          ],
          "name": "stdout"
        }
      ]
    },
    {
      "cell_type": "code",
      "metadata": {
        "id": "SKhNA-nWuKmR",
        "colab_type": "code",
        "colab": {}
      },
      "source": [
        "class netD(nn.Module):\n",
        "  def __init__(self):\n",
        "    super().__init__()\n",
        "    self.c1 = nn.Conv2d(1,256,3)\n",
        "    self.c2 = nn.Conv2d(256,64,3)\n",
        "    self.c5 = nn.Conv2d(64,1,3)\n",
        "    self.fl = nn.Flatten()\n",
        "    # self.f2 = nn.Linear(256,128)\n",
        "    # self.f3 = nn.Linear(128,64)\n",
        "    # self.f4 = nn.Linear(64,32)\n",
        "    # self.f5 = nn.Linear(32,16)\n",
        "    # self.f6 = nn.Linear(16,8)\n",
        "    self.f1 = nn.Linear(484,64)\n",
        "    self.f = nn.Linear(64,1)\n",
        "  def forward(self,x):\n",
        "    # x = x.view(x.shape[0],28*28)\n",
        "    x = self.c1(x)\n",
        "    x = F.leaky_relu(self.c2(x))\n",
        "    x = nn.Dropout(0.2)(x)\n",
        "    x = F.leaky_relu(self.c5(x))\n",
        "    x = nn.Dropout(0.2)(x)\n",
        "    # print(x.shape)\n",
        "    # x = F.leaky_relu(self.c5(x))\n",
        "    # print(x.shape)\n",
        "    x = self.fl(x)\n",
        "    x = F.leaky_relu(self.f1(x))\n",
        "    x = nn.Dropout(0.4)(x)\n",
        "    x = F.sigmoid(self.f(x))\n",
        "    return x\n",
        "\n",
        "discriminatorM = netD()"
      ],
      "execution_count": 6,
      "outputs": []
    },
    {
      "cell_type": "code",
      "metadata": {
        "id": "xvmGZfmAxI8w",
        "colab_type": "code",
        "colab": {}
      },
      "source": [
        "criterion = nn.BCELoss()\n",
        "\n",
        "def totalLossD(realOutput,fakeOutput):\n",
        "  ones = torch.ones_like(realOutput).to(\"cuda\")\n",
        "  # print(ones.shape)\n",
        "  zeros = torch.zeros_like(fakeOutput).to(\"cuda\")\n",
        "  loss1 = criterion(realOutput,ones)\n",
        "  loss0 = criterion(fakeOutput,zeros)\n",
        "  totalLoss = loss1+loss0\n",
        "  return totalLoss\n",
        "\n",
        "def totalLossG(fakeOutput):\n",
        "  ones = torch.ones_like(fakeOutput).to(\"cuda\")\n",
        "  loss = criterion(fakeOutput,ones)\n",
        "  return loss"
      ],
      "execution_count": 7,
      "outputs": []
    },
    {
      "cell_type": "code",
      "metadata": {
        "id": "U1RFQfhEywZK",
        "colab_type": "code",
        "colab": {}
      },
      "source": [
        "\n",
        "optD = torch.optim.Adam(discriminatorM.parameters())\n",
        "optG = torch.optim.Adam(generatorM.parameters())\n"
      ],
      "execution_count": 8,
      "outputs": []
    },
    {
      "cell_type": "code",
      "metadata": {
        "id": "Qyws_k-zM6yw",
        "colab_type": "code",
        "colab": {}
      },
      "source": [
        "transform = torchvision.transforms.Compose([\n",
        "                  torchvision.transforms.ToTensor(),\n",
        "                  torchvision.transforms.Normalize((0.5,),(0.5,))\n",
        "])\n",
        "dataset = torchvision.datasets.MNIST('data',train=True,download=True,transform=transform)\n",
        "\n",
        "datasetBatch = torch.utils.data.DataLoader(dataset,32,shuffle=True)\n",
        "dataiter = iter(datasetBatch)"
      ],
      "execution_count": 9,
      "outputs": []
    },
    {
      "cell_type": "code",
      "metadata": {
        "id": "xFC6eOGDzCqO",
        "colab_type": "code",
        "colab": {}
      },
      "source": [
        "generatorM.to(\"cuda\")\n",
        "discriminatorM.to(\"cuda\")\n",
        "def training():\n",
        "  epoch = 50\n",
        "  plossd = 0\n",
        "  plossg = 0\n",
        "\n",
        "  for e in range(epoch):\n",
        "    for img2,label in datasetBatch:\n",
        "      img = img2.to(\"cuda\")\n",
        "      # img = img2\n",
        "      r_output = discriminatorM(img)\n",
        "      # print(r_output)\n",
        "\n",
        "      g_input = torch.randn(64,100).to(\"cuda\")\n",
        "\n",
        "      f_img = generatorM(g_input) \n",
        "\n",
        "      f_output = discriminatorM(f_img.detach())\n",
        "      # print(f_output)\n",
        "\n",
        "      optD.zero_grad()\n",
        "      # print(r_output)\n",
        "      dloss = totalLossD(r_output,f_output)\n",
        "      # print(dloss)\n",
        "      dloss.backward()\n",
        "      optD.step()\n",
        "      # print(\"Discriminator\")\n",
        "      optG.zero_grad()\n",
        "      g2_input = torch.randn(64,100).to(\"cuda\")\n",
        "      f2_img = generatorM(g2_input)\n",
        "      f2_output = discriminatorM(f2_img)\n",
        "      gloss = totalLossG(f2_output)\n",
        "      # print(gloss)\n",
        "      gloss.backward()\n",
        "      optG.step()\n",
        "        # print(\"Generator\")\n",
        "      plossg = plossg+gloss.item()\n",
        "      plossd = plossd+dloss.item()\n",
        "    print(e+1)\n",
        "    print(\"Generator: \"+ str(plossg))\n",
        "    print(\"Discriminator: \"+ str(plossd))\n",
        "    plossd = 0\n",
        "    plossg = 0\n"
      ],
      "execution_count": 10,
      "outputs": []
    },
    {
      "cell_type": "code",
      "metadata": {
        "id": "nNMIF5QHRmdG",
        "colab_type": "code",
        "colab": {
          "base_uri": "https://localhost:8080/",
          "height": 571
        },
        "outputId": "3dd887cc-bd30-4339-ebb8-6bcce17c888b"
      },
      "source": [
        "training()"
      ],
      "execution_count": 11,
      "outputs": [
        {
          "output_type": "stream",
          "text": [
            "/usr/local/lib/python3.6/dist-packages/torch/nn/functional.py:1569: UserWarning: nn.functional.sigmoid is deprecated. Use torch.sigmoid instead.\n",
            "  warnings.warn(\"nn.functional.sigmoid is deprecated. Use torch.sigmoid instead.\")\n"
          ],
          "name": "stderr"
        },
        {
          "output_type": "stream",
          "text": [
            "1\n",
            "Generator: 9565.84674963355\n",
            "Discriminator: 831.2898165021179\n",
            "2\n",
            "Generator: 4961.185366630554\n",
            "Discriminator: 1050.5885439962149\n",
            "3\n",
            "Generator: 4758.988908529282\n",
            "Discriminator: 1095.611652046442\n",
            "4\n",
            "Generator: 4498.230062484741\n",
            "Discriminator: 1131.9090006500483\n",
            "5\n",
            "Generator: 4457.807439804077\n",
            "Discriminator: 1133.0104599893093\n"
          ],
          "name": "stdout"
        },
        {
          "output_type": "error",
          "ename": "KeyboardInterrupt",
          "evalue": "ignored",
          "traceback": [
            "\u001b[0;31m---------------------------------------------------------------------------\u001b[0m",
            "\u001b[0;31mKeyboardInterrupt\u001b[0m                         Traceback (most recent call last)",
            "\u001b[0;32m<ipython-input-11-6bc0957d99f1>\u001b[0m in \u001b[0;36m<module>\u001b[0;34m()\u001b[0m\n\u001b[0;32m----> 1\u001b[0;31m \u001b[0mtraining\u001b[0m\u001b[0;34m(\u001b[0m\u001b[0;34m)\u001b[0m\u001b[0;34m\u001b[0m\u001b[0;34m\u001b[0m\u001b[0m\n\u001b[0m",
            "\u001b[0;32m<ipython-input-10-81acd4db10c3>\u001b[0m in \u001b[0;36mtraining\u001b[0;34m()\u001b[0m\n\u001b[1;32m     28\u001b[0m       \u001b[0;31m# print(\"Discriminator\")\u001b[0m\u001b[0;34m\u001b[0m\u001b[0;34m\u001b[0m\u001b[0;34m\u001b[0m\u001b[0m\n\u001b[1;32m     29\u001b[0m       \u001b[0moptG\u001b[0m\u001b[0;34m.\u001b[0m\u001b[0mzero_grad\u001b[0m\u001b[0;34m(\u001b[0m\u001b[0;34m)\u001b[0m\u001b[0;34m\u001b[0m\u001b[0;34m\u001b[0m\u001b[0m\n\u001b[0;32m---> 30\u001b[0;31m       \u001b[0mg2_input\u001b[0m \u001b[0;34m=\u001b[0m \u001b[0mtorch\u001b[0m\u001b[0;34m.\u001b[0m\u001b[0mrandn\u001b[0m\u001b[0;34m(\u001b[0m\u001b[0;36m64\u001b[0m\u001b[0;34m,\u001b[0m\u001b[0;36m100\u001b[0m\u001b[0;34m)\u001b[0m\u001b[0;34m.\u001b[0m\u001b[0mto\u001b[0m\u001b[0;34m(\u001b[0m\u001b[0;34m\"cuda\"\u001b[0m\u001b[0;34m)\u001b[0m\u001b[0;34m\u001b[0m\u001b[0;34m\u001b[0m\u001b[0m\n\u001b[0m\u001b[1;32m     31\u001b[0m       \u001b[0mf2_img\u001b[0m \u001b[0;34m=\u001b[0m \u001b[0mgeneratorM\u001b[0m\u001b[0;34m(\u001b[0m\u001b[0mg2_input\u001b[0m\u001b[0;34m)\u001b[0m\u001b[0;34m\u001b[0m\u001b[0;34m\u001b[0m\u001b[0m\n\u001b[1;32m     32\u001b[0m       \u001b[0mf2_output\u001b[0m \u001b[0;34m=\u001b[0m \u001b[0mdiscriminatorM\u001b[0m\u001b[0;34m(\u001b[0m\u001b[0mf2_img\u001b[0m\u001b[0;34m)\u001b[0m\u001b[0;34m\u001b[0m\u001b[0;34m\u001b[0m\u001b[0m\n",
            "\u001b[0;31mKeyboardInterrupt\u001b[0m: "
          ]
        }
      ]
    },
    {
      "cell_type": "code",
      "metadata": {
        "id": "DYoVt9QiKWjP",
        "colab_type": "code",
        "colab": {}
      },
      "source": [
        "input = torch.randn(64,100).to(\"cuda\")\n",
        "img = generatorM(input)\n",
        "\n",
        "\n"
      ],
      "execution_count": 12,
      "outputs": []
    },
    {
      "cell_type": "code",
      "metadata": {
        "id": "LPxVj66FsQ3K",
        "colab_type": "code",
        "colab": {
          "base_uri": "https://localhost:8080/",
          "height": 265
        },
        "outputId": "ede3e176-73e3-4f88-bba6-5efd6981a1b0"
      },
      "source": [
        "img = img.view(64,28,28).to(\"cpu\")\n",
        "\n",
        "plt.imshow(img[4].detach().numpy(),cmap='gray')\n",
        "n=0"
      ],
      "execution_count": 13,
      "outputs": [
        {
          "output_type": "display_data",
          "data": {
            "image/png": "[encoded data removed]",
            "text/plain": [
              "<Figure size 432x288 with 1 Axes>"
            ]
          },
          "metadata": {
            "tags": [],
            "needs_background": "light"
          }
        }
      ]
    },
    {
      "cell_type": "code",
      "metadata": {
        "id": "h9X8tU5Q19Jr",
        "colab_type": "code",
        "colab": {
          "base_uri": "https://localhost:8080/",
          "height": 282
        },
        "outputId": "bb3bc237-479d-4236-d0b3-368ba211400b"
      },
      "source": [
        "n = n+1\n",
        "plt.imshow(img[n].detach().numpy(),cmap='gray')"
      ],
      "execution_count": 20,
      "outputs": [
        {
          "output_type": "execute_result",
          "data": {
            "text/plain": [
              "<matplotlib.image.AxesImage at 0x7f8fbf68eeb8>"
            ]
          },
          "metadata": {
            "tags": []
          },
          "execution_count": 20
        },
        {
          "output_type": "display_data",
          "data": {
            "image/png": "[encoded data removed]",
            "text/plain": [
              "<Figure size 432x288 with 1 Axes>"
            ]
          },
          "metadata": {
            "tags": [],
            "needs_background": "light"
          }
        }
      ]
    }
  ]
}